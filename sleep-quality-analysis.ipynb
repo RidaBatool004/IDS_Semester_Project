{
 "cells": [
  {
   "cell_type": "markdown",
   "metadata": {},
   "source": [
    "# **Sleep Quality Analysis**\n",
    "\n",
    "The **Sleep Health and Lifestyle Dataset** contains 374 rows and 13 columns, providing insights into various factors affecting sleep and daily lifestylehabits. It includes information on **demographics, sleep metrics, lifestyle factors, cardiovascular health, and sleep disorders**. The dataset covers key variables such as age, gender, occupation, sleep duration, quality of sleep, physical activity, stress levels, BMI, blood pressure, heart rate, daily steps, and sleep disorders like insomnia and sleep apnea."
   ]
  },
  {
   "cell_type": "markdown",
   "metadata": {},
   "source": [
    "### **Key Features:**\n",
    "\n",
    "* **Sleep Metrics**: Sleep duration and quality.\n",
    "* **Lifestyle Factors**: Physical activity levels, stress levels, and BMI categories.\n",
    "* **Cardiovascular Health**: Blood pressure and heart rate measurements.\n",
    "* **Sleep Disorders**: Presence of conditions like insomnia and sleep apnea.\n"
   ]
  },
  {
   "cell_type": "markdown",
   "metadata": {},
   "source": [
    "## **Importing Libraries**"
   ]
  },
  {
   "cell_type": "code",
   "execution_count": 1,
   "metadata": {
    "execution": {
     "iopub.execute_input": "2025-06-14T09:37:20.175669Z",
     "iopub.status.busy": "2025-06-14T09:37:20.175293Z",
     "iopub.status.idle": "2025-06-14T09:37:21.393410Z",
     "shell.execute_reply": "2025-06-14T09:37:21.392441Z",
     "shell.execute_reply.started": "2025-06-14T09:37:20.175643Z"
    },
    "trusted": true
   },
   "outputs": [],
   "source": [
    "import pandas as pd\n",
    "import numpy as np\n",
    "import matplotlib.pyplot as plt\n",
    "import seaborn as sns\n",
    "import pickle\n",
    "import os\n",
    "from sklearn.ensemble import RandomForestClassifier\n",
    "from sklearn.preprocessing import LabelEncoder, StandardScaler\n",
    "from sklearn.model_selection import train_test_split\n",
    "from sklearn.metrics import accuracy_score, confusion_matrix, classification_report"
   ]
  },
  {
   "cell_type": "code",
   "execution_count": 2,
   "metadata": {
    "execution": {
     "iopub.execute_input": "2025-06-14T09:37:21.395663Z",
     "iopub.status.busy": "2025-06-14T09:37:21.395013Z",
     "iopub.status.idle": "2025-06-14T09:37:21.401861Z",
     "shell.execute_reply": "2025-06-14T09:37:21.400329Z",
     "shell.execute_reply.started": "2025-06-14T09:37:21.395626Z"
    },
    "trusted": true
   },
   "outputs": [],
   "source": [
    "# making differnt directories to save files that we will use in streamlit deployment\n",
    "os.makedirs(\"eda_results\", exist_ok=True)\n",
    "os.makedirs(\"plots\", exist_ok=True)\n",
    "os.makedirs(\"models\", exist_ok=True)"
   ]
  },
  {
   "cell_type": "markdown",
   "metadata": {},
   "source": [
    "## **Loading & Understanding the Dataset with Pandas**"
   ]
  },
  {
   "cell_type": "code",
   "execution_count": 3,
   "metadata": {
    "execution": {
     "iopub.execute_input": "2025-06-14T09:37:21.403395Z",
     "iopub.status.busy": "2025-06-14T09:37:21.403019Z",
     "iopub.status.idle": "2025-06-14T09:37:21.645902Z",
     "shell.execute_reply": "2025-06-14T09:37:21.644689Z",
     "shell.execute_reply.started": "2025-06-14T09:37:21.403360Z"
    },
    "trusted": true
   },
   "outputs": [
    {
     "data": {
      "application/vnd.microsoft.datawrangler.viewer.v0+json": {
       "columns": [
        {
         "name": "index",
         "rawType": "int64",
         "type": "integer"
        },
        {
         "name": "Person ID",
         "rawType": "int64",
         "type": "integer"
        },
        {
         "name": "Gender",
         "rawType": "object",
         "type": "string"
        },
        {
         "name": "Age",
         "rawType": "int64",
         "type": "integer"
        },
        {
         "name": "Occupation",
         "rawType": "object",
         "type": "string"
        },
        {
         "name": "Sleep Duration",
         "rawType": "float64",
         "type": "float"
        },
        {
         "name": "Quality of Sleep",
         "rawType": "int64",
         "type": "integer"
        },
        {
         "name": "Physical Activity Level",
         "rawType": "int64",
         "type": "integer"
        },
        {
         "name": "Stress Level",
         "rawType": "int64",
         "type": "integer"
        },
        {
         "name": "BMI Category",
         "rawType": "object",
         "type": "string"
        },
        {
         "name": "Blood Pressure",
         "rawType": "object",
         "type": "string"
        },
        {
         "name": "Heart Rate",
         "rawType": "int64",
         "type": "integer"
        },
        {
         "name": "Daily Steps",
         "rawType": "int64",
         "type": "integer"
        },
        {
         "name": "Sleep Disorder",
         "rawType": "object",
         "type": "unknown"
        }
       ],
       "conversionMethod": "pd.DataFrame",
       "ref": "1dfe3ae6-89d0-43c7-aced-b3593b1be59b",
       "rows": [
        [
         "0",
         "1",
         "Male",
         "27",
         "Software Engineer",
         "6.1",
         "6",
         "42",
         "6",
         "Overweight",
         "126/83",
         "77",
         "4200",
         null
        ],
        [
         "1",
         "2",
         "Male",
         "28",
         "Doctor",
         "6.2",
         "6",
         "60",
         "8",
         "Normal",
         "125/80",
         "75",
         "10000",
         null
        ],
        [
         "2",
         "3",
         "Male",
         "28",
         "Doctor",
         "6.2",
         "6",
         "60",
         "8",
         "Normal",
         "125/80",
         "75",
         "10000",
         null
        ],
        [
         "3",
         "4",
         "Male",
         "28",
         "Sales Representative",
         "5.9",
         "4",
         "30",
         "8",
         "Obese",
         "140/90",
         "85",
         "3000",
         "Sleep Apnea"
        ],
        [
         "4",
         "5",
         "Male",
         "28",
         "Sales Representative",
         "5.9",
         "4",
         "30",
         "8",
         "Obese",
         "140/90",
         "85",
         "3000",
         "Sleep Apnea"
        ]
       ],
       "shape": {
        "columns": 13,
        "rows": 5
       }
      },
      "text/html": [
       "<div>\n",
       "<style scoped>\n",
       "    .dataframe tbody tr th:only-of-type {\n",
       "        vertical-align: middle;\n",
       "    }\n",
       "\n",
       "    .dataframe tbody tr th {\n",
       "        vertical-align: top;\n",
       "    }\n",
       "\n",
       "    .dataframe thead th {\n",
       "        text-align: right;\n",
       "    }\n",
       "</style>\n",
       "<table border=\"1\" class=\"dataframe\">\n",
       "  <thead>\n",
       "    <tr style=\"text-align: right;\">\n",
       "      <th></th>\n",
       "      <th>Person ID</th>\n",
       "      <th>Gender</th>\n",
       "      <th>Age</th>\n",
       "      <th>Occupation</th>\n",
       "      <th>Sleep Duration</th>\n",
       "      <th>Quality of Sleep</th>\n",
       "      <th>Physical Activity Level</th>\n",
       "      <th>Stress Level</th>\n",
       "      <th>BMI Category</th>\n",
       "      <th>Blood Pressure</th>\n",
       "      <th>Heart Rate</th>\n",
       "      <th>Daily Steps</th>\n",
       "      <th>Sleep Disorder</th>\n",
       "    </tr>\n",
       "  </thead>\n",
       "  <tbody>\n",
       "    <tr>\n",
       "      <th>0</th>\n",
       "      <td>1</td>\n",
       "      <td>Male</td>\n",
       "      <td>27</td>\n",
       "      <td>Software Engineer</td>\n",
       "      <td>6.1</td>\n",
       "      <td>6</td>\n",
       "      <td>42</td>\n",
       "      <td>6</td>\n",
       "      <td>Overweight</td>\n",
       "      <td>126/83</td>\n",
       "      <td>77</td>\n",
       "      <td>4200</td>\n",
       "      <td>NaN</td>\n",
       "    </tr>\n",
       "    <tr>\n",
       "      <th>1</th>\n",
       "      <td>2</td>\n",
       "      <td>Male</td>\n",
       "      <td>28</td>\n",
       "      <td>Doctor</td>\n",
       "      <td>6.2</td>\n",
       "      <td>6</td>\n",
       "      <td>60</td>\n",
       "      <td>8</td>\n",
       "      <td>Normal</td>\n",
       "      <td>125/80</td>\n",
       "      <td>75</td>\n",
       "      <td>10000</td>\n",
       "      <td>NaN</td>\n",
       "    </tr>\n",
       "    <tr>\n",
       "      <th>2</th>\n",
       "      <td>3</td>\n",
       "      <td>Male</td>\n",
       "      <td>28</td>\n",
       "      <td>Doctor</td>\n",
       "      <td>6.2</td>\n",
       "      <td>6</td>\n",
       "      <td>60</td>\n",
       "      <td>8</td>\n",
       "      <td>Normal</td>\n",
       "      <td>125/80</td>\n",
       "      <td>75</td>\n",
       "      <td>10000</td>\n",
       "      <td>NaN</td>\n",
       "    </tr>\n",
       "    <tr>\n",
       "      <th>3</th>\n",
       "      <td>4</td>\n",
       "      <td>Male</td>\n",
       "      <td>28</td>\n",
       "      <td>Sales Representative</td>\n",
       "      <td>5.9</td>\n",
       "      <td>4</td>\n",
       "      <td>30</td>\n",
       "      <td>8</td>\n",
       "      <td>Obese</td>\n",
       "      <td>140/90</td>\n",
       "      <td>85</td>\n",
       "      <td>3000</td>\n",
       "      <td>Sleep Apnea</td>\n",
       "    </tr>\n",
       "    <tr>\n",
       "      <th>4</th>\n",
       "      <td>5</td>\n",
       "      <td>Male</td>\n",
       "      <td>28</td>\n",
       "      <td>Sales Representative</td>\n",
       "      <td>5.9</td>\n",
       "      <td>4</td>\n",
       "      <td>30</td>\n",
       "      <td>8</td>\n",
       "      <td>Obese</td>\n",
       "      <td>140/90</td>\n",
       "      <td>85</td>\n",
       "      <td>3000</td>\n",
       "      <td>Sleep Apnea</td>\n",
       "    </tr>\n",
       "  </tbody>\n",
       "</table>\n",
       "</div>"
      ],
      "text/plain": [
       "   Person ID Gender  Age            Occupation  Sleep Duration  \\\n",
       "0          1   Male   27     Software Engineer             6.1   \n",
       "1          2   Male   28                Doctor             6.2   \n",
       "2          3   Male   28                Doctor             6.2   \n",
       "3          4   Male   28  Sales Representative             5.9   \n",
       "4          5   Male   28  Sales Representative             5.9   \n",
       "\n",
       "   Quality of Sleep  Physical Activity Level  Stress Level BMI Category  \\\n",
       "0                 6                       42             6   Overweight   \n",
       "1                 6                       60             8       Normal   \n",
       "2                 6                       60             8       Normal   \n",
       "3                 4                       30             8        Obese   \n",
       "4                 4                       30             8        Obese   \n",
       "\n",
       "  Blood Pressure  Heart Rate  Daily Steps Sleep Disorder  \n",
       "0         126/83          77         4200            NaN  \n",
       "1         125/80          75        10000            NaN  \n",
       "2         125/80          75        10000            NaN  \n",
       "3         140/90          85         3000    Sleep Apnea  \n",
       "4         140/90          85         3000    Sleep Apnea  "
      ]
     },
     "execution_count": 3,
     "metadata": {},
     "output_type": "execute_result"
    }
   ],
   "source": [
    "# Reading Data Head\n",
    "data = pd.read_excel(\"sleep_data.xlsx\",engine='openpyxl') \n",
    "data.head()"
   ]
  },
  {
   "cell_type": "code",
   "execution_count": 4,
   "metadata": {
    "execution": {
     "iopub.execute_input": "2025-06-14T09:37:21.648797Z",
     "iopub.status.busy": "2025-06-14T09:37:21.648391Z",
     "iopub.status.idle": "2025-06-14T09:37:21.667763Z",
     "shell.execute_reply": "2025-06-14T09:37:21.666785Z",
     "shell.execute_reply.started": "2025-06-14T09:37:21.648774Z"
    },
    "trusted": true
   },
   "outputs": [
    {
     "data": {
      "application/vnd.microsoft.datawrangler.viewer.v0+json": {
       "columns": [
        {
         "name": "index",
         "rawType": "object",
         "type": "string"
        },
        {
         "name": "Data Type",
         "rawType": "object",
         "type": "unknown"
        },
        {
         "name": "Unique Values",
         "rawType": "int64",
         "type": "integer"
        }
       ],
       "conversionMethod": "pd.DataFrame",
       "ref": "09e5805d-5b3e-416a-ab0d-5b1216901a91",
       "rows": [
        [
         "Person ID",
         "int64",
         "374"
        ],
        [
         "Gender",
         "object",
         "2"
        ],
        [
         "Age",
         "int64",
         "31"
        ],
        [
         "Occupation",
         "object",
         "11"
        ],
        [
         "Sleep Duration",
         "float64",
         "27"
        ],
        [
         "Quality of Sleep",
         "int64",
         "6"
        ],
        [
         "Physical Activity Level",
         "int64",
         "16"
        ],
        [
         "Stress Level",
         "int64",
         "6"
        ],
        [
         "BMI Category",
         "object",
         "4"
        ],
        [
         "Blood Pressure",
         "object",
         "25"
        ],
        [
         "Heart Rate",
         "int64",
         "19"
        ],
        [
         "Daily Steps",
         "int64",
         "20"
        ],
        [
         "Sleep Disorder",
         "object",
         "2"
        ]
       ],
       "shape": {
        "columns": 2,
        "rows": 13
       }
      },
      "text/html": [
       "<div>\n",
       "<style scoped>\n",
       "    .dataframe tbody tr th:only-of-type {\n",
       "        vertical-align: middle;\n",
       "    }\n",
       "\n",
       "    .dataframe tbody tr th {\n",
       "        vertical-align: top;\n",
       "    }\n",
       "\n",
       "    .dataframe thead th {\n",
       "        text-align: right;\n",
       "    }\n",
       "</style>\n",
       "<table border=\"1\" class=\"dataframe\">\n",
       "  <thead>\n",
       "    <tr style=\"text-align: right;\">\n",
       "      <th></th>\n",
       "      <th>Data Type</th>\n",
       "      <th>Unique Values</th>\n",
       "    </tr>\n",
       "  </thead>\n",
       "  <tbody>\n",
       "    <tr>\n",
       "      <th>Person ID</th>\n",
       "      <td>int64</td>\n",
       "      <td>374</td>\n",
       "    </tr>\n",
       "    <tr>\n",
       "      <th>Gender</th>\n",
       "      <td>object</td>\n",
       "      <td>2</td>\n",
       "    </tr>\n",
       "    <tr>\n",
       "      <th>Age</th>\n",
       "      <td>int64</td>\n",
       "      <td>31</td>\n",
       "    </tr>\n",
       "    <tr>\n",
       "      <th>Occupation</th>\n",
       "      <td>object</td>\n",
       "      <td>11</td>\n",
       "    </tr>\n",
       "    <tr>\n",
       "      <th>Sleep Duration</th>\n",
       "      <td>float64</td>\n",
       "      <td>27</td>\n",
       "    </tr>\n",
       "    <tr>\n",
       "      <th>Quality of Sleep</th>\n",
       "      <td>int64</td>\n",
       "      <td>6</td>\n",
       "    </tr>\n",
       "    <tr>\n",
       "      <th>Physical Activity Level</th>\n",
       "      <td>int64</td>\n",
       "      <td>16</td>\n",
       "    </tr>\n",
       "    <tr>\n",
       "      <th>Stress Level</th>\n",
       "      <td>int64</td>\n",
       "      <td>6</td>\n",
       "    </tr>\n",
       "    <tr>\n",
       "      <th>BMI Category</th>\n",
       "      <td>object</td>\n",
       "      <td>4</td>\n",
       "    </tr>\n",
       "    <tr>\n",
       "      <th>Blood Pressure</th>\n",
       "      <td>object</td>\n",
       "      <td>25</td>\n",
       "    </tr>\n",
       "    <tr>\n",
       "      <th>Heart Rate</th>\n",
       "      <td>int64</td>\n",
       "      <td>19</td>\n",
       "    </tr>\n",
       "    <tr>\n",
       "      <th>Daily Steps</th>\n",
       "      <td>int64</td>\n",
       "      <td>20</td>\n",
       "    </tr>\n",
       "    <tr>\n",
       "      <th>Sleep Disorder</th>\n",
       "      <td>object</td>\n",
       "      <td>2</td>\n",
       "    </tr>\n",
       "  </tbody>\n",
       "</table>\n",
       "</div>"
      ],
      "text/plain": [
       "                        Data Type  Unique Values\n",
       "Person ID                   int64            374\n",
       "Gender                     object              2\n",
       "Age                         int64             31\n",
       "Occupation                 object             11\n",
       "Sleep Duration            float64             27\n",
       "Quality of Sleep            int64              6\n",
       "Physical Activity Level     int64             16\n",
       "Stress Level                int64              6\n",
       "BMI Category               object              4\n",
       "Blood Pressure             object             25\n",
       "Heart Rate                  int64             19\n",
       "Daily Steps                 int64             20\n",
       "Sleep Disorder             object              2"
      ]
     },
     "execution_count": 4,
     "metadata": {},
     "output_type": "execute_result"
    }
   ],
   "source": [
    "# Data Types and Unique Value Counts\n",
    "data_types = data.dtypes\n",
    "unique_counts = data.nunique()\n",
    "data_info = pd.concat([data_types, unique_counts], axis=1)\n",
    "data_info.columns = ['Data Type', 'Unique Values']\n",
    "data_info.to_csv(\"eda_results/data_info.csv\")\n",
    "data_info"
   ]
  },
  {
   "cell_type": "code",
   "execution_count": 5,
   "metadata": {
    "execution": {
     "iopub.execute_input": "2025-06-14T09:37:21.668988Z",
     "iopub.status.busy": "2025-06-14T09:37:21.668743Z",
     "iopub.status.idle": "2025-06-14T09:37:21.688388Z",
     "shell.execute_reply": "2025-06-14T09:37:21.687492Z",
     "shell.execute_reply.started": "2025-06-14T09:37:21.668968Z"
    },
    "trusted": true
   },
   "outputs": [
    {
     "data": {
      "application/vnd.microsoft.datawrangler.viewer.v0+json": {
       "columns": [
        {
         "name": "index",
         "rawType": "object",
         "type": "string"
        },
        {
         "name": "count",
         "rawType": "object",
         "type": "unknown"
        },
        {
         "name": "unique",
         "rawType": "object",
         "type": "unknown"
        },
        {
         "name": "top",
         "rawType": "object",
         "type": "string"
        },
        {
         "name": "freq",
         "rawType": "object",
         "type": "unknown"
        }
       ],
       "conversionMethod": "pd.DataFrame",
       "ref": "c40d6bef-04f0-4422-857c-e94bea5ff922",
       "rows": [
        [
         "Gender",
         "374",
         "2",
         "Male",
         "189"
        ],
        [
         "Occupation",
         "374",
         "11",
         "Nurse",
         "73"
        ],
        [
         "BMI Category",
         "374",
         "4",
         "Normal",
         "195"
        ],
        [
         "Blood Pressure",
         "374",
         "25",
         "130/85",
         "99"
        ],
        [
         "Sleep Disorder",
         "155",
         "2",
         "Sleep Apnea",
         "78"
        ]
       ],
       "shape": {
        "columns": 4,
        "rows": 5
       }
      },
      "text/html": [
       "<div>\n",
       "<style scoped>\n",
       "    .dataframe tbody tr th:only-of-type {\n",
       "        vertical-align: middle;\n",
       "    }\n",
       "\n",
       "    .dataframe tbody tr th {\n",
       "        vertical-align: top;\n",
       "    }\n",
       "\n",
       "    .dataframe thead th {\n",
       "        text-align: right;\n",
       "    }\n",
       "</style>\n",
       "<table border=\"1\" class=\"dataframe\">\n",
       "  <thead>\n",
       "    <tr style=\"text-align: right;\">\n",
       "      <th></th>\n",
       "      <th>count</th>\n",
       "      <th>unique</th>\n",
       "      <th>top</th>\n",
       "      <th>freq</th>\n",
       "    </tr>\n",
       "  </thead>\n",
       "  <tbody>\n",
       "    <tr>\n",
       "      <th>Gender</th>\n",
       "      <td>374</td>\n",
       "      <td>2</td>\n",
       "      <td>Male</td>\n",
       "      <td>189</td>\n",
       "    </tr>\n",
       "    <tr>\n",
       "      <th>Occupation</th>\n",
       "      <td>374</td>\n",
       "      <td>11</td>\n",
       "      <td>Nurse</td>\n",
       "      <td>73</td>\n",
       "    </tr>\n",
       "    <tr>\n",
       "      <th>BMI Category</th>\n",
       "      <td>374</td>\n",
       "      <td>4</td>\n",
       "      <td>Normal</td>\n",
       "      <td>195</td>\n",
       "    </tr>\n",
       "    <tr>\n",
       "      <th>Blood Pressure</th>\n",
       "      <td>374</td>\n",
       "      <td>25</td>\n",
       "      <td>130/85</td>\n",
       "      <td>99</td>\n",
       "    </tr>\n",
       "    <tr>\n",
       "      <th>Sleep Disorder</th>\n",
       "      <td>155</td>\n",
       "      <td>2</td>\n",
       "      <td>Sleep Apnea</td>\n",
       "      <td>78</td>\n",
       "    </tr>\n",
       "  </tbody>\n",
       "</table>\n",
       "</div>"
      ],
      "text/plain": [
       "               count unique          top freq\n",
       "Gender           374      2         Male  189\n",
       "Occupation       374     11        Nurse   73\n",
       "BMI Category     374      4       Normal  195\n",
       "Blood Pressure   374     25       130/85   99\n",
       "Sleep Disorder   155      2  Sleep Apnea   78"
      ]
     },
     "execution_count": 5,
     "metadata": {},
     "output_type": "execute_result"
    }
   ],
   "source": [
    "# Generate summary statistics for categorical variables\n",
    "cat_summary = data.describe(include='O').T\n",
    "cat_summary.to_csv(\"eda_results/categorical_summary.csv\")  # saving the files for streamlit deployment\n",
    "cat_summary\n"
   ]
  },
  {
   "cell_type": "code",
   "execution_count": 6,
   "metadata": {
    "execution": {
     "iopub.execute_input": "2025-06-14T09:37:21.689705Z",
     "iopub.status.busy": "2025-06-14T09:37:21.689390Z",
     "iopub.status.idle": "2025-06-14T09:37:21.732178Z",
     "shell.execute_reply": "2025-06-14T09:37:21.731407Z",
     "shell.execute_reply.started": "2025-06-14T09:37:21.689671Z"
    },
    "trusted": true
   },
   "outputs": [
    {
     "data": {
      "application/vnd.microsoft.datawrangler.viewer.v0+json": {
       "columns": [
        {
         "name": "index",
         "rawType": "object",
         "type": "string"
        },
        {
         "name": "count",
         "rawType": "float64",
         "type": "float"
        },
        {
         "name": "mean",
         "rawType": "float64",
         "type": "float"
        },
        {
         "name": "std",
         "rawType": "float64",
         "type": "float"
        },
        {
         "name": "min",
         "rawType": "float64",
         "type": "float"
        },
        {
         "name": "25%",
         "rawType": "float64",
         "type": "float"
        },
        {
         "name": "50%",
         "rawType": "float64",
         "type": "float"
        },
        {
         "name": "75%",
         "rawType": "float64",
         "type": "float"
        },
        {
         "name": "max",
         "rawType": "float64",
         "type": "float"
        }
       ],
       "conversionMethod": "pd.DataFrame",
       "ref": "c534b628-91fd-4e88-a7a8-10de37450044",
       "rows": [
        [
         "Person ID",
         "374.0",
         "187.5",
         "108.10874155219827",
         "1.0",
         "94.25",
         "187.5",
         "280.75",
         "374.0"
        ],
        [
         "Age",
         "374.0",
         "42.18449197860963",
         "8.673133465547243",
         "27.0",
         "35.25",
         "43.0",
         "50.0",
         "59.0"
        ],
        [
         "Sleep Duration",
         "374.0",
         "7.132085561497325",
         "0.7956567308898189",
         "5.8",
         "6.4",
         "7.2",
         "7.8",
         "8.5"
        ],
        [
         "Quality of Sleep",
         "374.0",
         "7.31283422459893",
         "1.196955919733606",
         "4.0",
         "6.0",
         "7.0",
         "8.0",
         "9.0"
        ],
        [
         "Physical Activity Level",
         "374.0",
         "59.17112299465241",
         "20.83080365807167",
         "30.0",
         "45.0",
         "60.0",
         "75.0",
         "90.0"
        ],
        [
         "Stress Level",
         "374.0",
         "5.385026737967914",
         "1.774526444198519",
         "3.0",
         "4.0",
         "5.0",
         "7.0",
         "8.0"
        ],
        [
         "Heart Rate",
         "374.0",
         "70.16577540106952",
         "4.135675535112215",
         "65.0",
         "68.0",
         "70.0",
         "72.0",
         "86.0"
        ],
        [
         "Daily Steps",
         "374.0",
         "6816.844919786096",
         "1617.915679133636",
         "3000.0",
         "5600.0",
         "7000.0",
         "8000.0",
         "10000.0"
        ]
       ],
       "shape": {
        "columns": 8,
        "rows": 8
       }
      },
      "text/html": [
       "<div>\n",
       "<style scoped>\n",
       "    .dataframe tbody tr th:only-of-type {\n",
       "        vertical-align: middle;\n",
       "    }\n",
       "\n",
       "    .dataframe tbody tr th {\n",
       "        vertical-align: top;\n",
       "    }\n",
       "\n",
       "    .dataframe thead th {\n",
       "        text-align: right;\n",
       "    }\n",
       "</style>\n",
       "<table border=\"1\" class=\"dataframe\">\n",
       "  <thead>\n",
       "    <tr style=\"text-align: right;\">\n",
       "      <th></th>\n",
       "      <th>count</th>\n",
       "      <th>mean</th>\n",
       "      <th>std</th>\n",
       "      <th>min</th>\n",
       "      <th>25%</th>\n",
       "      <th>50%</th>\n",
       "      <th>75%</th>\n",
       "      <th>max</th>\n",
       "    </tr>\n",
       "  </thead>\n",
       "  <tbody>\n",
       "    <tr>\n",
       "      <th>Person ID</th>\n",
       "      <td>374.0</td>\n",
       "      <td>187.500000</td>\n",
       "      <td>108.108742</td>\n",
       "      <td>1.0</td>\n",
       "      <td>94.25</td>\n",
       "      <td>187.5</td>\n",
       "      <td>280.75</td>\n",
       "      <td>374.0</td>\n",
       "    </tr>\n",
       "    <tr>\n",
       "      <th>Age</th>\n",
       "      <td>374.0</td>\n",
       "      <td>42.184492</td>\n",
       "      <td>8.673133</td>\n",
       "      <td>27.0</td>\n",
       "      <td>35.25</td>\n",
       "      <td>43.0</td>\n",
       "      <td>50.00</td>\n",
       "      <td>59.0</td>\n",
       "    </tr>\n",
       "    <tr>\n",
       "      <th>Sleep Duration</th>\n",
       "      <td>374.0</td>\n",
       "      <td>7.132086</td>\n",
       "      <td>0.795657</td>\n",
       "      <td>5.8</td>\n",
       "      <td>6.40</td>\n",
       "      <td>7.2</td>\n",
       "      <td>7.80</td>\n",
       "      <td>8.5</td>\n",
       "    </tr>\n",
       "    <tr>\n",
       "      <th>Quality of Sleep</th>\n",
       "      <td>374.0</td>\n",
       "      <td>7.312834</td>\n",
       "      <td>1.196956</td>\n",
       "      <td>4.0</td>\n",
       "      <td>6.00</td>\n",
       "      <td>7.0</td>\n",
       "      <td>8.00</td>\n",
       "      <td>9.0</td>\n",
       "    </tr>\n",
       "    <tr>\n",
       "      <th>Physical Activity Level</th>\n",
       "      <td>374.0</td>\n",
       "      <td>59.171123</td>\n",
       "      <td>20.830804</td>\n",
       "      <td>30.0</td>\n",
       "      <td>45.00</td>\n",
       "      <td>60.0</td>\n",
       "      <td>75.00</td>\n",
       "      <td>90.0</td>\n",
       "    </tr>\n",
       "    <tr>\n",
       "      <th>Stress Level</th>\n",
       "      <td>374.0</td>\n",
       "      <td>5.385027</td>\n",
       "      <td>1.774526</td>\n",
       "      <td>3.0</td>\n",
       "      <td>4.00</td>\n",
       "      <td>5.0</td>\n",
       "      <td>7.00</td>\n",
       "      <td>8.0</td>\n",
       "    </tr>\n",
       "    <tr>\n",
       "      <th>Heart Rate</th>\n",
       "      <td>374.0</td>\n",
       "      <td>70.165775</td>\n",
       "      <td>4.135676</td>\n",
       "      <td>65.0</td>\n",
       "      <td>68.00</td>\n",
       "      <td>70.0</td>\n",
       "      <td>72.00</td>\n",
       "      <td>86.0</td>\n",
       "    </tr>\n",
       "    <tr>\n",
       "      <th>Daily Steps</th>\n",
       "      <td>374.0</td>\n",
       "      <td>6816.844920</td>\n",
       "      <td>1617.915679</td>\n",
       "      <td>3000.0</td>\n",
       "      <td>5600.00</td>\n",
       "      <td>7000.0</td>\n",
       "      <td>8000.00</td>\n",
       "      <td>10000.0</td>\n",
       "    </tr>\n",
       "  </tbody>\n",
       "</table>\n",
       "</div>"
      ],
      "text/plain": [
       "                         count         mean          std     min      25%  \\\n",
       "Person ID                374.0   187.500000   108.108742     1.0    94.25   \n",
       "Age                      374.0    42.184492     8.673133    27.0    35.25   \n",
       "Sleep Duration           374.0     7.132086     0.795657     5.8     6.40   \n",
       "Quality of Sleep         374.0     7.312834     1.196956     4.0     6.00   \n",
       "Physical Activity Level  374.0    59.171123    20.830804    30.0    45.00   \n",
       "Stress Level             374.0     5.385027     1.774526     3.0     4.00   \n",
       "Heart Rate               374.0    70.165775     4.135676    65.0    68.00   \n",
       "Daily Steps              374.0  6816.844920  1617.915679  3000.0  5600.00   \n",
       "\n",
       "                            50%      75%      max  \n",
       "Person ID                 187.5   280.75    374.0  \n",
       "Age                        43.0    50.00     59.0  \n",
       "Sleep Duration              7.2     7.80      8.5  \n",
       "Quality of Sleep            7.0     8.00      9.0  \n",
       "Physical Activity Level    60.0    75.00     90.0  \n",
       "Stress Level                5.0     7.00      8.0  \n",
       "Heart Rate                 70.0    72.00     86.0  \n",
       "Daily Steps              7000.0  8000.00  10000.0  "
      ]
     },
     "execution_count": 6,
     "metadata": {},
     "output_type": "execute_result"
    }
   ],
   "source": [
    "# Generate summary statistics for numeric variables\n",
    "num_summary = data.describe().T\n",
    "num_summary.to_csv(\"eda_results/numeric_summary.csv\") #saving file for streamlit deployment\n",
    "num_summary"
   ]
  },
  {
   "cell_type": "code",
   "execution_count": 7,
   "metadata": {
    "execution": {
     "iopub.execute_input": "2025-06-14T09:37:21.733799Z",
     "iopub.status.busy": "2025-06-14T09:37:21.733534Z",
     "iopub.status.idle": "2025-06-14T09:37:21.761409Z",
     "shell.execute_reply": "2025-06-14T09:37:21.760592Z",
     "shell.execute_reply.started": "2025-06-14T09:37:21.733767Z"
    },
    "trusted": true
   },
   "outputs": [
    {
     "data": {
      "application/vnd.microsoft.datawrangler.viewer.v0+json": {
       "columns": [
        {
         "name": "index",
         "rawType": "object",
         "type": "string"
        },
        {
         "name": "Outlier Count",
         "rawType": "int64",
         "type": "integer"
        }
       ],
       "conversionMethod": "pd.DataFrame",
       "ref": "16ffae8e-2114-4e58-90ee-4e003b6bf50a",
       "rows": [
        [
         "Person ID",
         "0"
        ],
        [
         "Age",
         "0"
        ],
        [
         "Sleep Duration",
         "0"
        ],
        [
         "Quality of Sleep",
         "0"
        ],
        [
         "Physical Activity Level",
         "0"
        ],
        [
         "Stress Level",
         "0"
        ],
        [
         "Heart Rate",
         "15"
        ],
        [
         "Daily Steps",
         "0"
        ]
       ],
       "shape": {
        "columns": 1,
        "rows": 8
       }
      },
      "text/html": [
       "<div>\n",
       "<style scoped>\n",
       "    .dataframe tbody tr th:only-of-type {\n",
       "        vertical-align: middle;\n",
       "    }\n",
       "\n",
       "    .dataframe tbody tr th {\n",
       "        vertical-align: top;\n",
       "    }\n",
       "\n",
       "    .dataframe thead th {\n",
       "        text-align: right;\n",
       "    }\n",
       "</style>\n",
       "<table border=\"1\" class=\"dataframe\">\n",
       "  <thead>\n",
       "    <tr style=\"text-align: right;\">\n",
       "      <th></th>\n",
       "      <th>Outlier Count</th>\n",
       "    </tr>\n",
       "  </thead>\n",
       "  <tbody>\n",
       "    <tr>\n",
       "      <th>Person ID</th>\n",
       "      <td>0</td>\n",
       "    </tr>\n",
       "    <tr>\n",
       "      <th>Age</th>\n",
       "      <td>0</td>\n",
       "    </tr>\n",
       "    <tr>\n",
       "      <th>Sleep Duration</th>\n",
       "      <td>0</td>\n",
       "    </tr>\n",
       "    <tr>\n",
       "      <th>Quality of Sleep</th>\n",
       "      <td>0</td>\n",
       "    </tr>\n",
       "    <tr>\n",
       "      <th>Physical Activity Level</th>\n",
       "      <td>0</td>\n",
       "    </tr>\n",
       "    <tr>\n",
       "      <th>Stress Level</th>\n",
       "      <td>0</td>\n",
       "    </tr>\n",
       "    <tr>\n",
       "      <th>Heart Rate</th>\n",
       "      <td>15</td>\n",
       "    </tr>\n",
       "    <tr>\n",
       "      <th>Daily Steps</th>\n",
       "      <td>0</td>\n",
       "    </tr>\n",
       "  </tbody>\n",
       "</table>\n",
       "</div>"
      ],
      "text/plain": [
       "                         Outlier Count\n",
       "Person ID                            0\n",
       "Age                                  0\n",
       "Sleep Duration                       0\n",
       "Quality of Sleep                     0\n",
       "Physical Activity Level              0\n",
       "Stress Level                         0\n",
       "Heart Rate                          15\n",
       "Daily Steps                          0"
      ]
     },
     "execution_count": 7,
     "metadata": {},
     "output_type": "execute_result"
    }
   ],
   "source": [
    "# Outlier Detection (Detailed for all numerical cols)\n",
    "numeric_cols = ['Person ID', 'Age','Sleep Duration', 'Quality of Sleep', 'Physical Activity Level', 'Stress Level', 'Heart Rate','Daily Steps']\n",
    "outliers = {}\n",
    "for col in numeric_cols:\n",
    "    Q1 = data[col].quantile(0.25)\n",
    "    Q3 = data[col].quantile(0.75)\n",
    "    IQR = Q3 - Q1\n",
    "    lower_bound = Q1 - 1.5 * IQR\n",
    "    upper_bound = Q3 + 1.5 * IQR\n",
    "    outliers[col] = data[(data[col] < lower_bound) | (data[col] > upper_bound)][col].count()\n",
    "outliers_df = pd.DataFrame.from_dict(outliers, orient='index', columns=['Outlier Count'])\n",
    "outliers_df.to_csv(\"eda_results/outliers.csv\")\n",
    "outliers_df "
   ]
  },
  {
   "cell_type": "code",
   "execution_count": 8,
   "metadata": {
    "execution": {
     "iopub.execute_input": "2025-06-14T09:37:21.762863Z",
     "iopub.status.busy": "2025-06-14T09:37:21.762593Z",
     "iopub.status.idle": "2025-06-14T09:37:21.774695Z",
     "shell.execute_reply": "2025-06-14T09:37:21.773446Z",
     "shell.execute_reply.started": "2025-06-14T09:37:21.762840Z"
    },
    "trusted": true
   },
   "outputs": [
    {
     "data": {
      "text/plain": [
       "Person ID                    0\n",
       "Gender                       0\n",
       "Age                          0\n",
       "Occupation                   0\n",
       "Sleep Duration               0\n",
       "Quality of Sleep             0\n",
       "Physical Activity Level      0\n",
       "Stress Level                 0\n",
       "BMI Category                 0\n",
       "Blood Pressure               0\n",
       "Heart Rate                   0\n",
       "Daily Steps                  0\n",
       "Sleep Disorder             219\n",
       "dtype: int64"
      ]
     },
     "execution_count": 8,
     "metadata": {},
     "output_type": "execute_result"
    }
   ],
   "source": [
    "# 3. Missing Value Analysis\n",
    "missing_values = data.isnull().sum()\n",
    "missing_values"
   ]
  },
  {
   "cell_type": "markdown",
   "metadata": {},
   "source": [
    "## **Data Wrangling**"
   ]
  },
  {
   "cell_type": "code",
   "execution_count": 9,
   "metadata": {
    "execution": {
     "iopub.execute_input": "2025-06-14T09:37:21.776246Z",
     "iopub.status.busy": "2025-06-14T09:37:21.775920Z",
     "iopub.status.idle": "2025-06-14T09:37:21.804905Z",
     "shell.execute_reply": "2025-06-14T09:37:21.803940Z",
     "shell.execute_reply.started": "2025-06-14T09:37:21.776214Z"
    },
    "trusted": true
   },
   "outputs": [
    {
     "data": {
      "application/vnd.microsoft.datawrangler.viewer.v0+json": {
       "columns": [
        {
         "name": "index",
         "rawType": "int64",
         "type": "integer"
        },
        {
         "name": "Person ID",
         "rawType": "int64",
         "type": "integer"
        },
        {
         "name": "Gender",
         "rawType": "object",
         "type": "string"
        },
        {
         "name": "Age",
         "rawType": "int64",
         "type": "integer"
        },
        {
         "name": "Occupation",
         "rawType": "object",
         "type": "string"
        },
        {
         "name": "Sleep Duration",
         "rawType": "float64",
         "type": "float"
        },
        {
         "name": "Quality of Sleep",
         "rawType": "int64",
         "type": "integer"
        },
        {
         "name": "Physical Activity Level",
         "rawType": "int64",
         "type": "integer"
        },
        {
         "name": "Stress Level",
         "rawType": "int64",
         "type": "integer"
        },
        {
         "name": "BMI Category",
         "rawType": "object",
         "type": "string"
        },
        {
         "name": "Blood Pressure",
         "rawType": "object",
         "type": "string"
        },
        {
         "name": "Heart Rate",
         "rawType": "int64",
         "type": "integer"
        },
        {
         "name": "Daily Steps",
         "rawType": "int64",
         "type": "integer"
        },
        {
         "name": "Sleep Disorder",
         "rawType": "object",
         "type": "string"
        }
       ],
       "conversionMethod": "pd.DataFrame",
       "ref": "15296d1a-56a3-4e5a-9ed1-93fdb606d186",
       "rows": [
        [
         "0",
         "1",
         "Male",
         "27",
         "Software Engineer",
         "6.1",
         "6",
         "42",
         "6",
         "Overweight",
         "126/83",
         "77",
         "4200",
         "No Disease"
        ],
        [
         "1",
         "2",
         "Male",
         "28",
         "Doctor",
         "6.2",
         "6",
         "60",
         "8",
         "Normal",
         "125/80",
         "75",
         "10000",
         "No Disease"
        ],
        [
         "2",
         "3",
         "Male",
         "28",
         "Doctor",
         "6.2",
         "6",
         "60",
         "8",
         "Normal",
         "125/80",
         "75",
         "10000",
         "No Disease"
        ],
        [
         "3",
         "4",
         "Male",
         "28",
         "Sales Representative",
         "5.9",
         "4",
         "30",
         "8",
         "Obese",
         "140/90",
         "85",
         "3000",
         "Sleep Apnea"
        ],
        [
         "4",
         "5",
         "Male",
         "28",
         "Sales Representative",
         "5.9",
         "4",
         "30",
         "8",
         "Obese",
         "140/90",
         "85",
         "3000",
         "Sleep Apnea"
        ]
       ],
       "shape": {
        "columns": 13,
        "rows": 5
       }
      },
      "text/html": [
       "<div>\n",
       "<style scoped>\n",
       "    .dataframe tbody tr th:only-of-type {\n",
       "        vertical-align: middle;\n",
       "    }\n",
       "\n",
       "    .dataframe tbody tr th {\n",
       "        vertical-align: top;\n",
       "    }\n",
       "\n",
       "    .dataframe thead th {\n",
       "        text-align: right;\n",
       "    }\n",
       "</style>\n",
       "<table border=\"1\" class=\"dataframe\">\n",
       "  <thead>\n",
       "    <tr style=\"text-align: right;\">\n",
       "      <th></th>\n",
       "      <th>Person ID</th>\n",
       "      <th>Gender</th>\n",
       "      <th>Age</th>\n",
       "      <th>Occupation</th>\n",
       "      <th>Sleep Duration</th>\n",
       "      <th>Quality of Sleep</th>\n",
       "      <th>Physical Activity Level</th>\n",
       "      <th>Stress Level</th>\n",
       "      <th>BMI Category</th>\n",
       "      <th>Blood Pressure</th>\n",
       "      <th>Heart Rate</th>\n",
       "      <th>Daily Steps</th>\n",
       "      <th>Sleep Disorder</th>\n",
       "    </tr>\n",
       "  </thead>\n",
       "  <tbody>\n",
       "    <tr>\n",
       "      <th>0</th>\n",
       "      <td>1</td>\n",
       "      <td>Male</td>\n",
       "      <td>27</td>\n",
       "      <td>Software Engineer</td>\n",
       "      <td>6.1</td>\n",
       "      <td>6</td>\n",
       "      <td>42</td>\n",
       "      <td>6</td>\n",
       "      <td>Overweight</td>\n",
       "      <td>126/83</td>\n",
       "      <td>77</td>\n",
       "      <td>4200</td>\n",
       "      <td>No Disease</td>\n",
       "    </tr>\n",
       "    <tr>\n",
       "      <th>1</th>\n",
       "      <td>2</td>\n",
       "      <td>Male</td>\n",
       "      <td>28</td>\n",
       "      <td>Doctor</td>\n",
       "      <td>6.2</td>\n",
       "      <td>6</td>\n",
       "      <td>60</td>\n",
       "      <td>8</td>\n",
       "      <td>Normal</td>\n",
       "      <td>125/80</td>\n",
       "      <td>75</td>\n",
       "      <td>10000</td>\n",
       "      <td>No Disease</td>\n",
       "    </tr>\n",
       "    <tr>\n",
       "      <th>2</th>\n",
       "      <td>3</td>\n",
       "      <td>Male</td>\n",
       "      <td>28</td>\n",
       "      <td>Doctor</td>\n",
       "      <td>6.2</td>\n",
       "      <td>6</td>\n",
       "      <td>60</td>\n",
       "      <td>8</td>\n",
       "      <td>Normal</td>\n",
       "      <td>125/80</td>\n",
       "      <td>75</td>\n",
       "      <td>10000</td>\n",
       "      <td>No Disease</td>\n",
       "    </tr>\n",
       "    <tr>\n",
       "      <th>3</th>\n",
       "      <td>4</td>\n",
       "      <td>Male</td>\n",
       "      <td>28</td>\n",
       "      <td>Sales Representative</td>\n",
       "      <td>5.9</td>\n",
       "      <td>4</td>\n",
       "      <td>30</td>\n",
       "      <td>8</td>\n",
       "      <td>Obese</td>\n",
       "      <td>140/90</td>\n",
       "      <td>85</td>\n",
       "      <td>3000</td>\n",
       "      <td>Sleep Apnea</td>\n",
       "    </tr>\n",
       "    <tr>\n",
       "      <th>4</th>\n",
       "      <td>5</td>\n",
       "      <td>Male</td>\n",
       "      <td>28</td>\n",
       "      <td>Sales Representative</td>\n",
       "      <td>5.9</td>\n",
       "      <td>4</td>\n",
       "      <td>30</td>\n",
       "      <td>8</td>\n",
       "      <td>Obese</td>\n",
       "      <td>140/90</td>\n",
       "      <td>85</td>\n",
       "      <td>3000</td>\n",
       "      <td>Sleep Apnea</td>\n",
       "    </tr>\n",
       "  </tbody>\n",
       "</table>\n",
       "</div>"
      ],
      "text/plain": [
       "   Person ID Gender  Age            Occupation  Sleep Duration  \\\n",
       "0          1   Male   27     Software Engineer             6.1   \n",
       "1          2   Male   28                Doctor             6.2   \n",
       "2          3   Male   28                Doctor             6.2   \n",
       "3          4   Male   28  Sales Representative             5.9   \n",
       "4          5   Male   28  Sales Representative             5.9   \n",
       "\n",
       "   Quality of Sleep  Physical Activity Level  Stress Level BMI Category  \\\n",
       "0                 6                       42             6   Overweight   \n",
       "1                 6                       60             8       Normal   \n",
       "2                 6                       60             8       Normal   \n",
       "3                 4                       30             8        Obese   \n",
       "4                 4                       30             8        Obese   \n",
       "\n",
       "  Blood Pressure  Heart Rate  Daily Steps Sleep Disorder  \n",
       "0         126/83          77         4200     No Disease  \n",
       "1         125/80          75        10000     No Disease  \n",
       "2         125/80          75        10000     No Disease  \n",
       "3         140/90          85         3000    Sleep Apnea  \n",
       "4         140/90          85         3000    Sleep Apnea  "
      ]
     },
     "execution_count": 9,
     "metadata": {},
     "output_type": "execute_result"
    }
   ],
   "source": [
    "# In Sleep Disorder column, 219 Nan are present, \n",
    "# we cannot drop it since there are only 374 rows. We will replace it by \"No Disease\".\n",
    "valid_categories = [\"No Disease\", \"Insomnia\", \"Sleep Apnea\"]\n",
    "data[\"Sleep Disorder\"] = data[\"Sleep Disorder\"].apply(\n",
    "    lambda x: x if x in valid_categories else \"No Disease\"\n",
    ")\n",
    "data.head()"
   ]
  },
  {
   "cell_type": "code",
   "execution_count": 10,
   "metadata": {
    "execution": {
     "iopub.execute_input": "2025-06-14T09:37:21.808230Z",
     "iopub.status.busy": "2025-06-14T09:37:21.807950Z",
     "iopub.status.idle": "2025-06-14T09:37:21.827926Z",
     "shell.execute_reply": "2025-06-14T09:37:21.827077Z",
     "shell.execute_reply.started": "2025-06-14T09:37:21.808209Z"
    },
    "trusted": true
   },
   "outputs": [
    {
     "data": {
      "text/plain": [
       "Person ID                  0\n",
       "Gender                     0\n",
       "Age                        0\n",
       "Occupation                 0\n",
       "Sleep Duration             0\n",
       "Quality of Sleep           0\n",
       "Physical Activity Level    0\n",
       "Stress Level               0\n",
       "BMI Category               0\n",
       "Blood Pressure             0\n",
       "Heart Rate                 0\n",
       "Daily Steps                0\n",
       "Sleep Disorder             0\n",
       "dtype: int64"
      ]
     },
     "execution_count": 10,
     "metadata": {},
     "output_type": "execute_result"
    }
   ],
   "source": [
    "# Check null values again\n",
    "data.isna().sum()"
   ]
  },
  {
   "cell_type": "code",
   "execution_count": 11,
   "metadata": {
    "execution": {
     "iopub.execute_input": "2025-06-14T09:37:21.829100Z",
     "iopub.status.busy": "2025-06-14T09:37:21.828854Z",
     "iopub.status.idle": "2025-06-14T09:37:21.846445Z",
     "shell.execute_reply": "2025-06-14T09:37:21.845362Z",
     "shell.execute_reply.started": "2025-06-14T09:37:21.829081Z"
    },
    "trusted": true
   },
   "outputs": [],
   "source": [
    "# In the BMI Category column there are labels like Normal, Normal Weight, Overweight, and Obese.\n",
    "# There is a possibility that the data was collected from multiple sources, leading to inconsistent labeling\n",
    "# To ensure consistent labeling we'll map Normal Weight to Normal\n",
    "data[\"BMI Category\"] = data[\"BMI Category\"].replace({\"Normal Weight\": \"Normal\"})"
   ]
  },
  {
   "cell_type": "markdown",
   "metadata": {},
   "source": [
    "## **Exploratory data analysis (EDA)**"
   ]
  },
  {
   "cell_type": "code",
   "execution_count": 12,
   "metadata": {
    "execution": {
     "iopub.execute_input": "2025-06-14T09:37:21.847828Z",
     "iopub.status.busy": "2025-06-14T09:37:21.847480Z",
     "iopub.status.idle": "2025-06-14T09:37:22.124111Z",
     "shell.execute_reply": "2025-06-14T09:37:22.123262Z",
     "shell.execute_reply.started": "2025-06-14T09:37:21.847799Z"
    },
    "trusted": true
   },
   "outputs": [
    {
     "data": {
      "image/png": "[encoded data removed]",
      "text/plain": [
       "<Figure size 1000x600 with 1 Axes>"
      ]
     },
     "metadata": {},
     "output_type": "display_data"
    }
   ],
   "source": [
    "# 1) Gender vs Quality of Sleep (Bar Chart with Hue)\n",
    "plt.figure(figsize=(10, 6))\n",
    "sns.countplot(x='Gender', hue='Quality of Sleep', data=data, palette=\"viridis\")\n",
    "plt.xticks(rotation=20)\n",
    "plt.title('Prevalence of Quality of Sleep by Gender')\n",
    "plt.xlabel('Gender')\n",
    "plt.ylabel('Count')\n",
    "plt.legend(title='Quality of Sleep')\n",
    "plt.show()\n",
    "plt.savefig(\"plots/gender_vs_quality_sleep.png\")\n",
    "plt.close()"
   ]
  },
  {
   "cell_type": "code",
   "execution_count": 13,
   "metadata": {
    "execution": {
     "iopub.execute_input": "2025-06-14T09:37:22.125302Z",
     "iopub.status.busy": "2025-06-14T09:37:22.125031Z",
     "iopub.status.idle": "2025-06-14T09:37:22.394750Z",
     "shell.execute_reply": "2025-06-14T09:37:22.393622Z",
     "shell.execute_reply.started": "2025-06-14T09:37:22.125282Z"
    },
    "trusted": true
   },
   "outputs": [
    {
     "data": {
      "image/png": "[encoded data removed]",
      "text/plain": [
       "<Figure size 1000x600 with 1 Axes>"
      ]
     },
     "metadata": {},
     "output_type": "display_data"
    }
   ],
   "source": [
    "# 2) Sleep Quality Distribution (Histogram)\n",
    "plt.figure(figsize=(10, 6))\n",
    "sns.histplot(data['Quality of Sleep'], bins=10, kde=True, color='skyblue')\n",
    "plt.title('Sleep Quality Distribution')\n",
    "plt.xlabel('Sleep Quality (1-10)')\n",
    "plt.ylabel('Number of People')\n",
    "plt.show()\n",
    "plt.savefig(\"plots/sleep_quality_distribution.png\")\n",
    "plt.close()"
   ]
  },
  {
   "cell_type": "code",
   "execution_count": 14,
   "metadata": {
    "execution": {
     "iopub.execute_input": "2025-06-14T09:37:22.396559Z",
     "iopub.status.busy": "2025-06-14T09:37:22.395984Z",
     "iopub.status.idle": "2025-06-14T09:37:22.753415Z",
     "shell.execute_reply": "2025-06-14T09:37:22.752610Z",
     "shell.execute_reply.started": "2025-06-14T09:37:22.396490Z"
    },
    "trusted": true
   },
   "outputs": [
    {
     "data": {
      "image/png": "[encoded data removed]",
      "text/plain": [
       "<Figure size 1000x1200 with 2 Axes>"
      ]
     },
     "metadata": {},
     "output_type": "display_data"
    }
   ],
   "source": [
    "# 3) Average Sleep Quality by Occupation (Heatmap)\n",
    "plt.figure(figsize=(10, 12))\n",
    "heatmap_data = data.groupby('Occupation')['Quality of Sleep'].mean().sort_values(ascending=False)\n",
    "sns.heatmap(heatmap_data.to_frame(), annot=True, cmap='YlGnBu', fmt='.1f')\n",
    "plt.title('Average Sleep Quality by Occupation (Heatmap)')\n",
    "plt.xlabel('Average Sleep Quality')\n",
    "plt.ylabel('Occupation')\n",
    "plt.show()\n",
    "plt.savefig(\"plots/sleep_quality_by_occupation_heatmap.png\")\n",
    "plt.close()"
   ]
  },
  {
   "cell_type": "code",
   "execution_count": 15,
   "metadata": {
    "execution": {
     "iopub.execute_input": "2025-06-14T09:37:22.754742Z",
     "iopub.status.busy": "2025-06-14T09:37:22.754433Z",
     "iopub.status.idle": "2025-06-14T09:37:23.264245Z",
     "shell.execute_reply": "2025-06-14T09:37:23.263332Z",
     "shell.execute_reply.started": "2025-06-14T09:37:22.754718Z"
    },
    "trusted": true
   },
   "outputs": [
    {
     "data": {
      "image/png": "[encoded data removed]",
      "text/plain": [
       "<Figure size 1000x800 with 2 Axes>"
      ]
     },
     "metadata": {},
     "output_type": "display_data"
    }
   ],
   "source": [
    "# 4) Correlation Heatmap for Numeric Columns\n",
    "numeric_cols = ['Age', 'Sleep Duration', 'Quality of Sleep', 'Physical Activity Level', \n",
    "                'Stress Level', 'Heart Rate', 'Daily Steps']\n",
    "corr = data[numeric_cols].corr()\n",
    "plt.figure(figsize=(10, 8))\n",
    "sns.heatmap(corr, annot=True, cmap='coolwarm', center=0)\n",
    "plt.title('Correlation Heatmap of Numeric Features')\n",
    "plt.show()\n",
    "plt.savefig(\"plots/correlation_heatmap.png\")\n",
    "plt.close()\n"
   ]
  },
  {
   "cell_type": "code",
   "execution_count": 16,
   "metadata": {
    "execution": {
     "iopub.execute_input": "2025-06-14T09:37:23.265865Z",
     "iopub.status.busy": "2025-06-14T09:37:23.265536Z",
     "iopub.status.idle": "2025-06-14T09:37:23.475175Z",
     "shell.execute_reply": "2025-06-14T09:37:23.473843Z",
     "shell.execute_reply.started": "2025-06-14T09:37:23.265841Z"
    },
    "trusted": true
   },
   "outputs": [
    {
     "data": {
      "image/png": "[encoded data removed]",
      "text/plain": [
       "<Figure size 1000x500 with 1 Axes>"
      ]
     },
     "metadata": {},
     "output_type": "display_data"
    }
   ],
   "source": [
    "# 5) Sleep Quality by BMI Category (Line Chart)\n",
    "bmi_order = ['Normal', 'Overweight', 'Obese']\n",
    "bmi_sleep = data.groupby('BMI Category')['Quality of Sleep'].mean().reindex(bmi_order)\n",
    "plt.figure(figsize=(10, 5))\n",
    "bmi_sleep.plot(kind='line', marker='o', color='purple', linewidth=2, markersize=8)\n",
    "plt.title('Change in Sleep Quality as BMI Increases')\n",
    "plt.xlabel('BMI Category (From Normal to Obese)')\n",
    "plt.ylabel('Average Quality of Sleep')\n",
    "plt.ylim(0, 10)\n",
    "plt.grid()\n",
    "plt.show()\n",
    "plt.savefig(\"plots/sleep_quality_by_bmi.png\")\n",
    "plt.close()"
   ]
  },
  {
   "cell_type": "code",
   "execution_count": 17,
   "metadata": {
    "execution": {
     "iopub.execute_input": "2025-06-14T09:37:23.476447Z",
     "iopub.status.busy": "2025-06-14T09:37:23.476173Z",
     "iopub.status.idle": "2025-06-14T09:37:24.615489Z",
     "shell.execute_reply": "2025-06-14T09:37:24.614565Z",
     "shell.execute_reply.started": "2025-06-14T09:37:23.476423Z"
    },
    "trusted": true
   },
   "outputs": [
    {
     "data": {
      "image/png": "[encoded data removed]",
      "text/plain": [
       "<Figure size 1200x800 with 1 Axes>"
      ]
     },
     "metadata": {},
     "output_type": "display_data"
    }
   ],
   "source": [
    "# 6) Stress Level by Occupation (Bar Chart with Hue for all occupations)\n",
    "plt.figure(figsize=(12, 8))\n",
    "sns.barplot(data=data, x=\"Occupation\", y=\"Stress Level\", hue=\"Occupation\", palette=\"coolwarm\", legend=False)\n",
    "plt.title(\"Average Stress Level Across All Occupations\")\n",
    "plt.xlabel(\"Occupation\")\n",
    "plt.ylabel(\"Average Stress Level\")\n",
    "plt.xticks(rotation=90)\n",
    "plt.show()\n",
    "plt.savefig(\"plots/stress_level_by_occupation.png\")\n",
    "plt.close()"
   ]
  },
  {
   "cell_type": "code",
   "execution_count": 18,
   "metadata": {
    "execution": {
     "iopub.execute_input": "2025-06-14T09:37:24.616544Z",
     "iopub.status.busy": "2025-06-14T09:37:24.616297Z",
     "iopub.status.idle": "2025-06-14T09:37:24.852453Z",
     "shell.execute_reply": "2025-06-14T09:37:24.851446Z",
     "shell.execute_reply.started": "2025-06-14T09:37:24.616502Z"
    },
    "trusted": true
   },
   "outputs": [
    {
     "data": {
      "image/png": "[encoded data removed]",
      "text/plain": [
       "<Figure size 1000x800 with 1 Axes>"
      ]
     },
     "metadata": {},
     "output_type": "display_data"
    }
   ],
   "source": [
    "# 7) Physical Activity Level vs Quality of Sleep (Scatter Plot)\n",
    "plt.figure(figsize=(10, 8))\n",
    "sns.scatterplot(data=data, x=\"Physical Activity Level\", y=\"Quality of Sleep\", s=100, alpha=0.7, color='teal')\n",
    "plt.title(\"Physical Activity Level vs Quality of Sleep\")\n",
    "plt.xlabel(\"Physical Activity Level\")\n",
    "plt.ylabel(\"Quality of Sleep\")\n",
    "plt.show()\n",
    "plt.savefig(\"plots/activity_vs_quality_sleep.png\")\n",
    "plt.close()"
   ]
  },
  {
   "cell_type": "code",
   "execution_count": 19,
   "metadata": {
    "execution": {
     "iopub.execute_input": "2025-06-14T09:37:24.853903Z",
     "iopub.status.busy": "2025-06-14T09:37:24.853610Z",
     "iopub.status.idle": "2025-06-14T09:37:25.084700Z",
     "shell.execute_reply": "2025-06-14T09:37:25.083555Z",
     "shell.execute_reply.started": "2025-06-14T09:37:24.853882Z"
    },
    "trusted": true
   },
   "outputs": [
    {
     "data": {
      "image/png": "[encoded data removed]",
      "text/plain": [
       "<Figure size 1000x800 with 1 Axes>"
      ]
     },
     "metadata": {},
     "output_type": "display_data"
    }
   ],
   "source": [
    "# 8) Prevalence of Sleep Disorders by Gender (Bar Chart with Hue)\n",
    "plt.figure(figsize=(10, 8))\n",
    "sns.countplot(data=data, x=\"Gender\", hue=\"Sleep Disorder\", palette=\"viridis\")\n",
    "plt.title(\"Prevalence of Sleep Disorders by Gender\")\n",
    "plt.xlabel(\"Gender\")\n",
    "plt.ylabel(\"Count\")\n",
    "plt.legend(title=\"Sleep Disorder (No Disease, Sleep Apnea, Insomnia)\")\n",
    "plt.show()\n",
    "plt.savefig(\"plots/sleep_disorder_by_gender.png\")\n",
    "plt.close()"
   ]
  },
  {
   "cell_type": "code",
   "execution_count": 20,
   "metadata": {
    "execution": {
     "iopub.execute_input": "2025-06-14T09:37:25.085869Z",
     "iopub.status.busy": "2025-06-14T09:37:25.085611Z",
     "iopub.status.idle": "2025-06-14T09:37:25.326430Z",
     "shell.execute_reply": "2025-06-14T09:37:25.325706Z",
     "shell.execute_reply.started": "2025-06-14T09:37:25.085850Z"
    },
    "trusted": true
   },
   "outputs": [
    {
     "data": {
      "image/png": "[encoded data removed]",
      "text/plain": [
       "<Figure size 1000x600 with 1 Axes>"
      ]
     },
     "metadata": {},
     "output_type": "display_data"
    }
   ],
   "source": [
    "# 9) Daily Steps Across BMI Categories (Box Plot with Hue)\n",
    "plt.figure(figsize=(10, 6))\n",
    "sns.boxplot(data=data, x=\"BMI Category\", y=\"Daily Steps\", hue=\"BMI Category\", palette=\"coolwarm\", legend=False)\n",
    "plt.title(\"Daily Steps Across BMI Categories\")\n",
    "plt.xlabel(\"BMI Category\")\n",
    "plt.ylabel(\"Daily Steps\")\n",
    "plt.show()\n",
    "plt.savefig(\"plots/daily_steps_by_bmi.png\")\n",
    "plt.close()"
   ]
  },
  {
   "cell_type": "code",
   "execution_count": 21,
   "metadata": {
    "execution": {
     "iopub.execute_input": "2025-06-14T09:37:25.327574Z",
     "iopub.status.busy": "2025-06-14T09:37:25.327292Z",
     "iopub.status.idle": "2025-06-14T09:37:25.637743Z",
     "shell.execute_reply": "2025-06-14T09:37:25.636887Z",
     "shell.execute_reply.started": "2025-06-14T09:37:25.327545Z"
    },
    "trusted": true
   },
   "outputs": [
    {
     "data": {
      "image/png": "[encoded data removed]",
      "text/plain": [
       "<Figure size 1000x800 with 1 Axes>"
      ]
     },
     "metadata": {},
     "output_type": "display_data"
    }
   ],
   "source": [
    "# 10) Physical Activity Level by Sleep Disorder (Violin Plot with Hue)\n",
    "plt.figure(figsize=(10, 8))\n",
    "sns.violinplot(data=data, x=\"Sleep Disorder\", y=\"Physical Activity Level\", hue=\"Sleep Disorder\", palette=\"flare\", legend=False)\n",
    "plt.title(\"Physical Activity Level for People with and without Sleep Disorders\")\n",
    "plt.xlabel(\"Sleep Disorder (No Disease, Sleep Apnea, Insomnia)\")\n",
    "plt.ylabel(\"Physical Activity Level\")\n",
    "plt.show()\n",
    "plt.savefig(\"plots/activity_by_sleep_disorder.png\")\n",
    "plt.close()"
   ]
  },
  {
   "cell_type": "code",
   "execution_count": 22,
   "metadata": {
    "execution": {
     "iopub.execute_input": "2025-06-14T09:37:25.639436Z",
     "iopub.status.busy": "2025-06-14T09:37:25.639111Z",
     "iopub.status.idle": "2025-06-14T09:37:26.001620Z",
     "shell.execute_reply": "2025-06-14T09:37:26.000682Z",
     "shell.execute_reply.started": "2025-06-14T09:37:25.639413Z"
    },
    "trusted": true
   },
   "outputs": [
    {
     "data": {
      "image/png": "[encoded data removed]",
      "text/plain": [
       "<Figure size 1000x800 with 1 Axes>"
      ]
     },
     "metadata": {},
     "output_type": "display_data"
    }
   ],
   "source": [
    "# 11) Sleep Duration and Quality vs Stress Level (Scatter with Hue)\n",
    "plt.figure(figsize=(10, 8))\n",
    "sns.scatterplot(data=data, x=\"Sleep Duration\", y=\"Quality of Sleep\", hue=\"Stress Level\", palette=\"viridis\", s=100, alpha=0.7)\n",
    "plt.title(\"Sleep Duration and Quality of Sleep vs Stress Level\")\n",
    "plt.xlabel(\"Sleep Duration (hours)\")\n",
    "plt.ylabel(\"Quality of Sleep\")\n",
    "plt.legend(title=\"Stress Level\")\n",
    "plt.show()\n",
    "plt.savefig(\"plots/sleep_vs_stress.png\")\n",
    "plt.close()"
   ]
  },
  {
   "cell_type": "code",
   "execution_count": 23,
   "metadata": {
    "execution": {
     "iopub.execute_input": "2025-06-14T09:37:26.003137Z",
     "iopub.status.busy": "2025-06-14T09:37:26.002818Z",
     "iopub.status.idle": "2025-06-14T09:37:26.323364Z",
     "shell.execute_reply": "2025-06-14T09:37:26.322299Z",
     "shell.execute_reply.started": "2025-06-14T09:37:26.003114Z"
    },
    "trusted": true
   },
   "outputs": [
    {
     "data": {
      "image/png": "[encoded data removed]",
      "text/plain": [
       "<Figure size 1000x800 with 1 Axes>"
      ]
     },
     "metadata": {},
     "output_type": "display_data"
    }
   ],
   "source": [
    "# 12) Daily Steps vs Heart Rate (Regression Plot)\n",
    "plt.figure(figsize=(10, 8))\n",
    "sns.regplot(data=data, x=\"Daily Steps\", y=\"Heart Rate\", scatter_kws={\"color\": \"purple\"}, line_kws={\"color\": \"orange\"})\n",
    "plt.title(\"Daily Steps vs Heart Rate\")\n",
    "plt.xlabel(\"Daily Steps\")\n",
    "plt.ylabel(\"Heart Rate\")\n",
    "plt.show()\n",
    "plt.savefig(\"plots/steps_vs_heart_rate.png\")\n",
    "plt.close()"
   ]
  },
  {
   "cell_type": "code",
   "execution_count": 24,
   "metadata": {
    "execution": {
     "iopub.execute_input": "2025-06-14T09:37:26.324633Z",
     "iopub.status.busy": "2025-06-14T09:37:26.324281Z",
     "iopub.status.idle": "2025-06-14T09:37:26.604818Z",
     "shell.execute_reply": "2025-06-14T09:37:26.603919Z",
     "shell.execute_reply.started": "2025-06-14T09:37:26.324602Z"
    },
    "trusted": true
   },
   "outputs": [
    {
     "data": {
      "image/png": "[encoded data removed]",
      "text/plain": [
       "<Figure size 1000x600 with 1 Axes>"
      ]
     },
     "metadata": {},
     "output_type": "display_data"
    }
   ],
   "source": [
    "# 13) Health Risk Score vs Quality of Sleep (Scatter with Hue)\n",
    "bmi_mapping = {'Normal': 1, 'Overweight': 2, 'Obese': 3}\n",
    "data['BMI Score'] = data['BMI Category'].map(bmi_mapping)\n",
    "data['Health Risk Score'] = (data['BMI Score'] * 2) + data['Stress Level'] + (data['Heart Rate'] / 10)\n",
    "plt.figure(figsize=(10, 6))\n",
    "sns.scatterplot(data=data, x='Quality of Sleep', y='Health Risk Score', hue='Gender', palette='viridis', s=100)\n",
    "plt.title('Health Risk Score vs Quality of Sleep')\n",
    "plt.xlabel('Quality of Sleep')\n",
    "plt.ylabel('Health Risk Score')\n",
    "plt.legend(title='Gender')\n",
    "plt.show()\n",
    "plt.savefig(\"plots/health_risk_vs_quality.png\")\n",
    "plt.close()"
   ]
  },
  {
   "cell_type": "code",
   "execution_count": 25,
   "metadata": {
    "execution": {
     "iopub.execute_input": "2025-06-14T09:37:26.606194Z",
     "iopub.status.busy": "2025-06-14T09:37:26.605863Z",
     "iopub.status.idle": "2025-06-14T09:37:26.948774Z",
     "shell.execute_reply": "2025-06-14T09:37:26.947828Z",
     "shell.execute_reply.started": "2025-06-14T09:37:26.606168Z"
    },
    "trusted": true
   },
   "outputs": [
    {
     "data": {
      "image/png": "[encoded data removed]",
      "text/plain": [
       "<Figure size 1000x800 with 1 Axes>"
      ]
     },
     "metadata": {},
     "output_type": "display_data"
    }
   ],
   "source": [
    "# 14) Stress Tolerance Index vs Quality of Sleep (Box Plot with Hue)\n",
    "data['STI'] = data['Heart Rate'] / data['Stress Level'].replace(0, np.nan)\n",
    "plt.figure(figsize=(10, 8))\n",
    "sns.boxplot(data=data, x='Quality of Sleep', y='STI', hue='Quality of Sleep', palette='coolwarm', legend=False)\n",
    "plt.title('Effect of Stress Tolerance Index on Sleep Quality')\n",
    "plt.xlabel('Quality of Sleep')\n",
    "plt.ylabel('Stress Tolerance Index (STI)')\n",
    "plt.show()\n",
    "plt.savefig(\"plots/sti_vs_quality_sleep.png\")\n",
    "plt.close()"
   ]
  },
  {
   "cell_type": "markdown",
   "metadata": {},
   "source": [
    "## **Data Preprocessing**"
   ]
  },
  {
   "cell_type": "code",
   "execution_count": 26,
   "metadata": {
    "execution": {
     "iopub.execute_input": "2025-06-14T09:37:26.949744Z",
     "iopub.status.busy": "2025-06-14T09:37:26.949501Z",
     "iopub.status.idle": "2025-06-14T09:37:26.958653Z",
     "shell.execute_reply": "2025-06-14T09:37:26.957473Z",
     "shell.execute_reply.started": "2025-06-14T09:37:26.949727Z"
    },
    "trusted": true
   },
   "outputs": [],
   "source": [
    "# Splitting the Blood Pressure column into Systolic and Diastolic values, then drop the original column.\n",
    "data[[\"Systolic\", \"Diastolic\"]] = data[\"Blood Pressure\"].str.split(\"/\", expand=True).astype(float)\n",
    "data.drop(\"Blood Pressure\", axis=1, inplace=True)"
   ]
  },
  {
   "cell_type": "code",
   "execution_count": 27,
   "metadata": {
    "execution": {
     "iopub.execute_input": "2025-06-14T09:37:26.960218Z",
     "iopub.status.busy": "2025-06-14T09:37:26.959743Z",
     "iopub.status.idle": "2025-06-14T09:37:26.992336Z",
     "shell.execute_reply": "2025-06-14T09:37:26.991377Z",
     "shell.execute_reply.started": "2025-06-14T09:37:26.960176Z"
    },
    "trusted": true
   },
   "outputs": [
    {
     "data": {
      "application/vnd.microsoft.datawrangler.viewer.v0+json": {
       "columns": [
        {
         "name": "index",
         "rawType": "int64",
         "type": "integer"
        },
        {
         "name": "Person ID",
         "rawType": "int64",
         "type": "integer"
        },
        {
         "name": "Gender",
         "rawType": "object",
         "type": "string"
        },
        {
         "name": "Age",
         "rawType": "int64",
         "type": "integer"
        },
        {
         "name": "Occupation",
         "rawType": "object",
         "type": "string"
        },
        {
         "name": "Sleep Duration",
         "rawType": "float64",
         "type": "float"
        },
        {
         "name": "Quality of Sleep",
         "rawType": "int64",
         "type": "integer"
        },
        {
         "name": "Physical Activity Level",
         "rawType": "int64",
         "type": "integer"
        },
        {
         "name": "Stress Level",
         "rawType": "int64",
         "type": "integer"
        },
        {
         "name": "BMI Category",
         "rawType": "object",
         "type": "string"
        },
        {
         "name": "Heart Rate",
         "rawType": "int64",
         "type": "integer"
        },
        {
         "name": "Daily Steps",
         "rawType": "int64",
         "type": "integer"
        },
        {
         "name": "Sleep Disorder",
         "rawType": "object",
         "type": "string"
        },
        {
         "name": "BMI Score",
         "rawType": "int64",
         "type": "integer"
        },
        {
         "name": "Health Risk Score",
         "rawType": "float64",
         "type": "float"
        },
        {
         "name": "STI",
         "rawType": "float64",
         "type": "float"
        },
        {
         "name": "Systolic",
         "rawType": "float64",
         "type": "float"
        },
        {
         "name": "Diastolic",
         "rawType": "float64",
         "type": "float"
        }
       ],
       "conversionMethod": "pd.DataFrame",
       "ref": "051f9488-ca69-42a1-9c80-103f257db497",
       "rows": [
        [
         "0",
         "1",
         "Male",
         "27",
         "Software Engineer",
         "6.1",
         "6",
         "42",
         "6",
         "Overweight",
         "77",
         "4200",
         "No Disease",
         "2",
         "17.7",
         "12.833333333333334",
         "126.0",
         "83.0"
        ],
        [
         "1",
         "2",
         "Male",
         "28",
         "Doctor",
         "6.2",
         "6",
         "60",
         "8",
         "Normal",
         "75",
         "10000",
         "No Disease",
         "1",
         "17.5",
         "9.375",
         "125.0",
         "80.0"
        ],
        [
         "2",
         "3",
         "Male",
         "28",
         "Doctor",
         "6.2",
         "6",
         "60",
         "8",
         "Normal",
         "75",
         "10000",
         "No Disease",
         "1",
         "17.5",
         "9.375",
         "125.0",
         "80.0"
        ],
        [
         "3",
         "4",
         "Male",
         "28",
         "Sales Representative",
         "5.9",
         "4",
         "30",
         "8",
         "Obese",
         "85",
         "3000",
         "Sleep Apnea",
         "3",
         "22.5",
         "10.625",
         "140.0",
         "90.0"
        ],
        [
         "4",
         "5",
         "Male",
         "28",
         "Sales Representative",
         "5.9",
         "4",
         "30",
         "8",
         "Obese",
         "85",
         "3000",
         "Sleep Apnea",
         "3",
         "22.5",
         "10.625",
         "140.0",
         "90.0"
        ]
       ],
       "shape": {
        "columns": 17,
        "rows": 5
       }
      },
      "text/html": [
       "<div>\n",
       "<style scoped>\n",
       "    .dataframe tbody tr th:only-of-type {\n",
       "        vertical-align: middle;\n",
       "    }\n",
       "\n",
       "    .dataframe tbody tr th {\n",
       "        vertical-align: top;\n",
       "    }\n",
       "\n",
       "    .dataframe thead th {\n",
       "        text-align: right;\n",
       "    }\n",
       "</style>\n",
       "<table border=\"1\" class=\"dataframe\">\n",
       "  <thead>\n",
       "    <tr style=\"text-align: right;\">\n",
       "      <th></th>\n",
       "      <th>Person ID</th>\n",
       "      <th>Gender</th>\n",
       "      <th>Age</th>\n",
       "      <th>Occupation</th>\n",
       "      <th>Sleep Duration</th>\n",
       "      <th>Quality of Sleep</th>\n",
       "      <th>Physical Activity Level</th>\n",
       "      <th>Stress Level</th>\n",
       "      <th>BMI Category</th>\n",
       "      <th>Heart Rate</th>\n",
       "      <th>Daily Steps</th>\n",
       "      <th>Sleep Disorder</th>\n",
       "      <th>BMI Score</th>\n",
       "      <th>Health Risk Score</th>\n",
       "      <th>STI</th>\n",
       "      <th>Systolic</th>\n",
       "      <th>Diastolic</th>\n",
       "    </tr>\n",
       "  </thead>\n",
       "  <tbody>\n",
       "    <tr>\n",
       "      <th>0</th>\n",
       "      <td>1</td>\n",
       "      <td>Male</td>\n",
       "      <td>27</td>\n",
       "      <td>Software Engineer</td>\n",
       "      <td>6.1</td>\n",
       "      <td>6</td>\n",
       "      <td>42</td>\n",
       "      <td>6</td>\n",
       "      <td>Overweight</td>\n",
       "      <td>77</td>\n",
       "      <td>4200</td>\n",
       "      <td>No Disease</td>\n",
       "      <td>2</td>\n",
       "      <td>17.7</td>\n",
       "      <td>12.833333</td>\n",
       "      <td>126.0</td>\n",
       "      <td>83.0</td>\n",
       "    </tr>\n",
       "    <tr>\n",
       "      <th>1</th>\n",
       "      <td>2</td>\n",
       "      <td>Male</td>\n",
       "      <td>28</td>\n",
       "      <td>Doctor</td>\n",
       "      <td>6.2</td>\n",
       "      <td>6</td>\n",
       "      <td>60</td>\n",
       "      <td>8</td>\n",
       "      <td>Normal</td>\n",
       "      <td>75</td>\n",
       "      <td>10000</td>\n",
       "      <td>No Disease</td>\n",
       "      <td>1</td>\n",
       "      <td>17.5</td>\n",
       "      <td>9.375000</td>\n",
       "      <td>125.0</td>\n",
       "      <td>80.0</td>\n",
       "    </tr>\n",
       "    <tr>\n",
       "      <th>2</th>\n",
       "      <td>3</td>\n",
       "      <td>Male</td>\n",
       "      <td>28</td>\n",
       "      <td>Doctor</td>\n",
       "      <td>6.2</td>\n",
       "      <td>6</td>\n",
       "      <td>60</td>\n",
       "      <td>8</td>\n",
       "      <td>Normal</td>\n",
       "      <td>75</td>\n",
       "      <td>10000</td>\n",
       "      <td>No Disease</td>\n",
       "      <td>1</td>\n",
       "      <td>17.5</td>\n",
       "      <td>9.375000</td>\n",
       "      <td>125.0</td>\n",
       "      <td>80.0</td>\n",
       "    </tr>\n",
       "    <tr>\n",
       "      <th>3</th>\n",
       "      <td>4</td>\n",
       "      <td>Male</td>\n",
       "      <td>28</td>\n",
       "      <td>Sales Representative</td>\n",
       "      <td>5.9</td>\n",
       "      <td>4</td>\n",
       "      <td>30</td>\n",
       "      <td>8</td>\n",
       "      <td>Obese</td>\n",
       "      <td>85</td>\n",
       "      <td>3000</td>\n",
       "      <td>Sleep Apnea</td>\n",
       "      <td>3</td>\n",
       "      <td>22.5</td>\n",
       "      <td>10.625000</td>\n",
       "      <td>140.0</td>\n",
       "      <td>90.0</td>\n",
       "    </tr>\n",
       "    <tr>\n",
       "      <th>4</th>\n",
       "      <td>5</td>\n",
       "      <td>Male</td>\n",
       "      <td>28</td>\n",
       "      <td>Sales Representative</td>\n",
       "      <td>5.9</td>\n",
       "      <td>4</td>\n",
       "      <td>30</td>\n",
       "      <td>8</td>\n",
       "      <td>Obese</td>\n",
       "      <td>85</td>\n",
       "      <td>3000</td>\n",
       "      <td>Sleep Apnea</td>\n",
       "      <td>3</td>\n",
       "      <td>22.5</td>\n",
       "      <td>10.625000</td>\n",
       "      <td>140.0</td>\n",
       "      <td>90.0</td>\n",
       "    </tr>\n",
       "  </tbody>\n",
       "</table>\n",
       "</div>"
      ],
      "text/plain": [
       "   Person ID Gender  Age            Occupation  Sleep Duration  \\\n",
       "0          1   Male   27     Software Engineer             6.1   \n",
       "1          2   Male   28                Doctor             6.2   \n",
       "2          3   Male   28                Doctor             6.2   \n",
       "3          4   Male   28  Sales Representative             5.9   \n",
       "4          5   Male   28  Sales Representative             5.9   \n",
       "\n",
       "   Quality of Sleep  Physical Activity Level  Stress Level BMI Category  \\\n",
       "0                 6                       42             6   Overweight   \n",
       "1                 6                       60             8       Normal   \n",
       "2                 6                       60             8       Normal   \n",
       "3                 4                       30             8        Obese   \n",
       "4                 4                       30             8        Obese   \n",
       "\n",
       "   Heart Rate  Daily Steps Sleep Disorder  BMI Score  Health Risk Score  \\\n",
       "0          77         4200     No Disease          2               17.7   \n",
       "1          75        10000     No Disease          1               17.5   \n",
       "2          75        10000     No Disease          1               17.5   \n",
       "3          85         3000    Sleep Apnea          3               22.5   \n",
       "4          85         3000    Sleep Apnea          3               22.5   \n",
       "\n",
       "         STI  Systolic  Diastolic  \n",
       "0  12.833333     126.0       83.0  \n",
       "1   9.375000     125.0       80.0  \n",
       "2   9.375000     125.0       80.0  \n",
       "3  10.625000     140.0       90.0  \n",
       "4  10.625000     140.0       90.0  "
      ]
     },
     "execution_count": 27,
     "metadata": {},
     "output_type": "execute_result"
    }
   ],
   "source": [
    "data.head()"
   ]
  },
  {
   "cell_type": "code",
   "execution_count": 28,
   "metadata": {
    "execution": {
     "iopub.execute_input": "2025-06-14T09:37:26.997883Z",
     "iopub.status.busy": "2025-06-14T09:37:26.997602Z",
     "iopub.status.idle": "2025-06-14T09:37:27.012835Z",
     "shell.execute_reply": "2025-06-14T09:37:27.011619Z",
     "shell.execute_reply.started": "2025-06-14T09:37:26.997864Z"
    },
    "trusted": true
   },
   "outputs": [],
   "source": [
    "# Separate features and target variable\n",
    "X = data.drop(columns=[\"Sleep Disorder\", \"Person ID\"])\n",
    "y = data[\"Sleep Disorder\"]"
   ]
  },
  {
   "cell_type": "code",
   "execution_count": 29,
   "metadata": {
    "execution": {
     "iopub.execute_input": "2025-06-14T09:37:27.014098Z",
     "iopub.status.busy": "2025-06-14T09:37:27.013792Z",
     "iopub.status.idle": "2025-06-14T09:37:27.038005Z",
     "shell.execute_reply": "2025-06-14T09:37:27.037273Z",
     "shell.execute_reply.started": "2025-06-14T09:37:27.014076Z"
    },
    "trusted": true
   },
   "outputs": [
    {
     "data": {
      "text/plain": [
       "array([1, 1, 1, 2, 2, 0, 0, 1, 1, 1, 1, 1, 1, 1, 1, 1, 2, 2, 0, 1, 1, 1,\n",
       "       1, 1, 1, 1, 1, 1, 1, 1, 2, 0, 1, 1, 1, 1, 1, 1, 1, 1, 1, 1, 1, 1,\n",
       "       1, 1, 1, 1, 1, 2, 1, 1, 1, 1, 1, 1, 1, 1, 1, 1, 1, 1, 1, 1, 1, 1,\n",
       "       1, 0, 1, 1, 1, 1, 1, 1, 1, 1, 1, 1, 1, 1, 2, 2, 1, 1, 1, 1, 1, 1,\n",
       "       1, 1, 1, 1, 1, 2, 0, 1, 1, 1, 1, 1, 1, 1, 1, 2, 2, 0, 1, 1, 1, 1,\n",
       "       1, 1, 1, 1, 1, 1, 1, 1, 1, 1, 1, 1, 1, 1, 1, 1, 1, 1, 1, 1, 1, 1,\n",
       "       1, 1, 1, 1, 1, 1, 1, 1, 1, 1, 1, 1, 2, 2, 0, 0, 1, 1, 1, 1, 1, 1,\n",
       "       1, 1, 1, 1, 1, 1, 1, 1, 1, 1, 1, 0, 1, 1, 1, 1, 1, 1, 1, 1, 1, 1,\n",
       "       1, 0, 1, 1, 1, 1, 1, 1, 2, 2, 0, 0, 0, 0, 0, 0, 0, 0, 0, 0, 0, 0,\n",
       "       0, 0, 0, 0, 0, 1, 1, 1, 1, 1, 1, 1, 1, 1, 1, 1, 1, 1, 1, 1, 2, 2,\n",
       "       0, 0, 0, 0, 0, 0, 0, 0, 0, 0, 0, 0, 0, 0, 0, 0, 0, 0, 0, 0, 0, 0,\n",
       "       0, 0, 0, 0, 0, 0, 1, 1, 0, 0, 0, 0, 0, 0, 0, 0, 0, 0, 0, 1, 1, 1,\n",
       "       0, 2, 0, 1, 2, 2, 2, 2, 2, 2, 2, 2, 2, 2, 0, 1, 1, 2, 2, 2, 2, 2,\n",
       "       2, 2, 2, 2, 2, 2, 2, 2, 2, 2, 2, 2, 1, 1, 1, 1, 1, 2, 2, 2, 0, 0,\n",
       "       0, 0, 0, 0, 1, 1, 1, 0, 1, 1, 1, 1, 1, 1, 1, 1, 1, 1, 1, 1, 1, 1,\n",
       "       1, 1, 1, 1, 1, 1, 1, 1, 1, 2, 2, 1, 1, 1, 2, 2, 2, 2, 2, 2, 2, 2,\n",
       "       2, 2, 2, 2, 2, 2, 1, 1, 2, 2, 2, 2, 2, 2, 2, 2, 2, 2, 2, 2, 2, 2])"
      ]
     },
     "execution_count": 29,
     "metadata": {},
     "output_type": "execute_result"
    }
   ],
   "source": [
    "# Encode target variable\n",
    "encoder = LabelEncoder()\n",
    "y = encoder.fit_transform(y)\n",
    "y"
   ]
  },
  {
   "cell_type": "code",
   "execution_count": 30,
   "metadata": {
    "execution": {
     "iopub.execute_input": "2025-06-14T09:37:27.039104Z",
     "iopub.status.busy": "2025-06-14T09:37:27.038861Z",
     "iopub.status.idle": "2025-06-14T09:37:27.077812Z",
     "shell.execute_reply": "2025-06-14T09:37:27.076592Z",
     "shell.execute_reply.started": "2025-06-14T09:37:27.039086Z"
    },
    "trusted": true
   },
   "outputs": [
    {
     "data": {
      "application/vnd.microsoft.datawrangler.viewer.v0+json": {
       "columns": [
        {
         "name": "index",
         "rawType": "int64",
         "type": "integer"
        },
        {
         "name": "Gender",
         "rawType": "object",
         "type": "string"
        },
        {
         "name": "Age",
         "rawType": "float64",
         "type": "float"
        },
        {
         "name": "Occupation",
         "rawType": "object",
         "type": "string"
        },
        {
         "name": "Sleep Duration",
         "rawType": "float64",
         "type": "float"
        },
        {
         "name": "Quality of Sleep",
         "rawType": "float64",
         "type": "float"
        },
        {
         "name": "Physical Activity Level",
         "rawType": "float64",
         "type": "float"
        },
        {
         "name": "Stress Level",
         "rawType": "float64",
         "type": "float"
        },
        {
         "name": "BMI Category",
         "rawType": "object",
         "type": "string"
        },
        {
         "name": "Heart Rate",
         "rawType": "float64",
         "type": "float"
        },
        {
         "name": "Daily Steps",
         "rawType": "float64",
         "type": "float"
        },
        {
         "name": "BMI Score",
         "rawType": "float64",
         "type": "float"
        },
        {
         "name": "Health Risk Score",
         "rawType": "float64",
         "type": "float"
        },
        {
         "name": "STI",
         "rawType": "float64",
         "type": "float"
        },
        {
         "name": "Systolic",
         "rawType": "float64",
         "type": "float"
        },
        {
         "name": "Diastolic",
         "rawType": "float64",
         "type": "float"
        }
       ],
       "conversionMethod": "pd.DataFrame",
       "ref": "41910db1-bc3b-4b58-a261-805efc237424",
       "rows": [
        [
         "0",
         "Male",
         "-1.7530956904671209",
         "Software Engineer",
         "-1.2988869295661143",
         "-1.0982801090608083",
         "-0.8254182345212175",
         "0.3470205097281296",
         "Overweight",
         "1.6547186953714095",
         "-1.6195840368225138",
         "1.0041256843841395",
         "0.9388812333874961",
         "-0.3533059494205187",
         "-0.33000228967981626",
         "-0.26810236099005896"
        ],
        [
         "1",
         "Male",
         "-1.6376426550322374",
         "Doctor",
         "-1.1730362270641117",
         "-1.0982801090608083",
         "0.03984423118990614",
         "1.4755915587570028",
         "Normal",
         "1.1704739441437821",
         "1.9700774454247496",
         "-0.8188986163909487",
         "0.8606411306052049",
         "-1.1012795556850208",
         "-0.4592387884654193",
         "-0.7556402038277333"
        ],
        [
         "2",
         "Male",
         "-1.6376426550322374",
         "Doctor",
         "-1.1730362270641117",
         "-1.0982801090608083",
         "0.03984423118990614",
         "1.4755915587570028",
         "Normal",
         "1.1704739441437821",
         "1.9700774454247496",
         "-0.8188986163909487",
         "0.8606411306052049",
         "-1.1012795556850208",
         "-0.4592387884654193",
         "-0.7556402038277333"
        ],
        [
         "3",
         "Male",
         "-1.6376426550322374",
         "Sales Representative",
         "-1.550588334570117",
         "-2.771423737528191",
         "-1.4022598783286333",
         "1.4755915587570028",
         "Obese",
         "3.591697700281918",
         "-2.3622726193564305",
         "2.8271499851592274",
         "2.816643700162491",
         "-0.8309276498062851",
         "1.4793086933186261",
         "0.8694859389645145"
        ],
        [
         "4",
         "Male",
         "-1.6376426550322374",
         "Sales Representative",
         "-1.550588334570117",
         "-2.771423737528191",
         "-1.4022598783286333",
         "1.4755915587570028",
         "Obese",
         "3.591697700281918",
         "-2.3622726193564305",
         "2.8271499851592274",
         "2.816643700162491",
         "-0.8309276498062851",
         "1.4793086933186261",
         "0.8694859389645145"
        ]
       ],
       "shape": {
        "columns": 15,
        "rows": 5
       }
      },
      "text/html": [
       "<div>\n",
       "<style scoped>\n",
       "    .dataframe tbody tr th:only-of-type {\n",
       "        vertical-align: middle;\n",
       "    }\n",
       "\n",
       "    .dataframe tbody tr th {\n",
       "        vertical-align: top;\n",
       "    }\n",
       "\n",
       "    .dataframe thead th {\n",
       "        text-align: right;\n",
       "    }\n",
       "</style>\n",
       "<table border=\"1\" class=\"dataframe\">\n",
       "  <thead>\n",
       "    <tr style=\"text-align: right;\">\n",
       "      <th></th>\n",
       "      <th>Gender</th>\n",
       "      <th>Age</th>\n",
       "      <th>Occupation</th>\n",
       "      <th>Sleep Duration</th>\n",
       "      <th>Quality of Sleep</th>\n",
       "      <th>Physical Activity Level</th>\n",
       "      <th>Stress Level</th>\n",
       "      <th>BMI Category</th>\n",
       "      <th>Heart Rate</th>\n",
       "      <th>Daily Steps</th>\n",
       "      <th>BMI Score</th>\n",
       "      <th>Health Risk Score</th>\n",
       "      <th>STI</th>\n",
       "      <th>Systolic</th>\n",
       "      <th>Diastolic</th>\n",
       "    </tr>\n",
       "  </thead>\n",
       "  <tbody>\n",
       "    <tr>\n",
       "      <th>0</th>\n",
       "      <td>Male</td>\n",
       "      <td>-1.753096</td>\n",
       "      <td>Software Engineer</td>\n",
       "      <td>-1.298887</td>\n",
       "      <td>-1.098280</td>\n",
       "      <td>-0.825418</td>\n",
       "      <td>0.347021</td>\n",
       "      <td>Overweight</td>\n",
       "      <td>1.654719</td>\n",
       "      <td>-1.619584</td>\n",
       "      <td>1.004126</td>\n",
       "      <td>0.938881</td>\n",
       "      <td>-0.353306</td>\n",
       "      <td>-0.330002</td>\n",
       "      <td>-0.268102</td>\n",
       "    </tr>\n",
       "    <tr>\n",
       "      <th>1</th>\n",
       "      <td>Male</td>\n",
       "      <td>-1.637643</td>\n",
       "      <td>Doctor</td>\n",
       "      <td>-1.173036</td>\n",
       "      <td>-1.098280</td>\n",
       "      <td>0.039844</td>\n",
       "      <td>1.475592</td>\n",
       "      <td>Normal</td>\n",
       "      <td>1.170474</td>\n",
       "      <td>1.970077</td>\n",
       "      <td>-0.818899</td>\n",
       "      <td>0.860641</td>\n",
       "      <td>-1.101280</td>\n",
       "      <td>-0.459239</td>\n",
       "      <td>-0.755640</td>\n",
       "    </tr>\n",
       "    <tr>\n",
       "      <th>2</th>\n",
       "      <td>Male</td>\n",
       "      <td>-1.637643</td>\n",
       "      <td>Doctor</td>\n",
       "      <td>-1.173036</td>\n",
       "      <td>-1.098280</td>\n",
       "      <td>0.039844</td>\n",
       "      <td>1.475592</td>\n",
       "      <td>Normal</td>\n",
       "      <td>1.170474</td>\n",
       "      <td>1.970077</td>\n",
       "      <td>-0.818899</td>\n",
       "      <td>0.860641</td>\n",
       "      <td>-1.101280</td>\n",
       "      <td>-0.459239</td>\n",
       "      <td>-0.755640</td>\n",
       "    </tr>\n",
       "    <tr>\n",
       "      <th>3</th>\n",
       "      <td>Male</td>\n",
       "      <td>-1.637643</td>\n",
       "      <td>Sales Representative</td>\n",
       "      <td>-1.550588</td>\n",
       "      <td>-2.771424</td>\n",
       "      <td>-1.402260</td>\n",
       "      <td>1.475592</td>\n",
       "      <td>Obese</td>\n",
       "      <td>3.591698</td>\n",
       "      <td>-2.362273</td>\n",
       "      <td>2.827150</td>\n",
       "      <td>2.816644</td>\n",
       "      <td>-0.830928</td>\n",
       "      <td>1.479309</td>\n",
       "      <td>0.869486</td>\n",
       "    </tr>\n",
       "    <tr>\n",
       "      <th>4</th>\n",
       "      <td>Male</td>\n",
       "      <td>-1.637643</td>\n",
       "      <td>Sales Representative</td>\n",
       "      <td>-1.550588</td>\n",
       "      <td>-2.771424</td>\n",
       "      <td>-1.402260</td>\n",
       "      <td>1.475592</td>\n",
       "      <td>Obese</td>\n",
       "      <td>3.591698</td>\n",
       "      <td>-2.362273</td>\n",
       "      <td>2.827150</td>\n",
       "      <td>2.816644</td>\n",
       "      <td>-0.830928</td>\n",
       "      <td>1.479309</td>\n",
       "      <td>0.869486</td>\n",
       "    </tr>\n",
       "  </tbody>\n",
       "</table>\n",
       "</div>"
      ],
      "text/plain": [
       "  Gender       Age            Occupation  Sleep Duration  Quality of Sleep  \\\n",
       "0   Male -1.753096     Software Engineer       -1.298887         -1.098280   \n",
       "1   Male -1.637643                Doctor       -1.173036         -1.098280   \n",
       "2   Male -1.637643                Doctor       -1.173036         -1.098280   \n",
       "3   Male -1.637643  Sales Representative       -1.550588         -2.771424   \n",
       "4   Male -1.637643  Sales Representative       -1.550588         -2.771424   \n",
       "\n",
       "   Physical Activity Level  Stress Level BMI Category  Heart Rate  \\\n",
       "0                -0.825418      0.347021   Overweight    1.654719   \n",
       "1                 0.039844      1.475592       Normal    1.170474   \n",
       "2                 0.039844      1.475592       Normal    1.170474   \n",
       "3                -1.402260      1.475592        Obese    3.591698   \n",
       "4                -1.402260      1.475592        Obese    3.591698   \n",
       "\n",
       "   Daily Steps  BMI Score  Health Risk Score       STI  Systolic  Diastolic  \n",
       "0    -1.619584   1.004126           0.938881 -0.353306 -0.330002  -0.268102  \n",
       "1     1.970077  -0.818899           0.860641 -1.101280 -0.459239  -0.755640  \n",
       "2     1.970077  -0.818899           0.860641 -1.101280 -0.459239  -0.755640  \n",
       "3    -2.362273   2.827150           2.816644 -0.830928  1.479309   0.869486  \n",
       "4    -2.362273   2.827150           2.816644 -0.830928  1.479309   0.869486  "
      ]
     },
     "execution_count": 30,
     "metadata": {},
     "output_type": "execute_result"
    }
   ],
   "source": [
    "# Scale numerical features\n",
    "scaler = StandardScaler()\n",
    "num = X.select_dtypes(exclude=[\"object\"]).columns.tolist()\n",
    "X[num] = scaler.fit_transform(X[num])\n",
    "X.head()"
   ]
  },
  {
   "cell_type": "code",
   "execution_count": 31,
   "metadata": {
    "execution": {
     "iopub.execute_input": "2025-06-14T09:37:27.079118Z",
     "iopub.status.busy": "2025-06-14T09:37:27.078764Z",
     "iopub.status.idle": "2025-06-14T09:37:27.107872Z",
     "shell.execute_reply": "2025-06-14T09:37:27.106930Z",
     "shell.execute_reply.started": "2025-06-14T09:37:27.079088Z"
    },
    "trusted": true
   },
   "outputs": [
    {
     "data": {
      "application/vnd.microsoft.datawrangler.viewer.v0+json": {
       "columns": [
        {
         "name": "index",
         "rawType": "int64",
         "type": "integer"
        },
        {
         "name": "Age",
         "rawType": "float64",
         "type": "float"
        },
        {
         "name": "Sleep Duration",
         "rawType": "float64",
         "type": "float"
        },
        {
         "name": "Quality of Sleep",
         "rawType": "float64",
         "type": "float"
        },
        {
         "name": "Physical Activity Level",
         "rawType": "float64",
         "type": "float"
        },
        {
         "name": "Stress Level",
         "rawType": "float64",
         "type": "float"
        },
        {
         "name": "Heart Rate",
         "rawType": "float64",
         "type": "float"
        },
        {
         "name": "Daily Steps",
         "rawType": "float64",
         "type": "float"
        },
        {
         "name": "BMI Score",
         "rawType": "float64",
         "type": "float"
        },
        {
         "name": "Health Risk Score",
         "rawType": "float64",
         "type": "float"
        },
        {
         "name": "STI",
         "rawType": "float64",
         "type": "float"
        },
        {
         "name": "Systolic",
         "rawType": "float64",
         "type": "float"
        },
        {
         "name": "Diastolic",
         "rawType": "float64",
         "type": "float"
        },
        {
         "name": "Gender_Female",
         "rawType": "bool",
         "type": "boolean"
        },
        {
         "name": "Gender_Male",
         "rawType": "bool",
         "type": "boolean"
        },
        {
         "name": "Occupation_Accountant",
         "rawType": "bool",
         "type": "boolean"
        },
        {
         "name": "Occupation_Doctor",
         "rawType": "bool",
         "type": "boolean"
        },
        {
         "name": "Occupation_Engineer",
         "rawType": "bool",
         "type": "boolean"
        },
        {
         "name": "Occupation_Lawyer",
         "rawType": "bool",
         "type": "boolean"
        },
        {
         "name": "Occupation_Manager",
         "rawType": "bool",
         "type": "boolean"
        },
        {
         "name": "Occupation_Nurse",
         "rawType": "bool",
         "type": "boolean"
        },
        {
         "name": "Occupation_Sales Representative",
         "rawType": "bool",
         "type": "boolean"
        },
        {
         "name": "Occupation_Salesperson",
         "rawType": "bool",
         "type": "boolean"
        },
        {
         "name": "Occupation_Scientist",
         "rawType": "bool",
         "type": "boolean"
        },
        {
         "name": "Occupation_Software Engineer",
         "rawType": "bool",
         "type": "boolean"
        },
        {
         "name": "Occupation_Teacher",
         "rawType": "bool",
         "type": "boolean"
        },
        {
         "name": "BMI Category_Normal",
         "rawType": "bool",
         "type": "boolean"
        },
        {
         "name": "BMI Category_Obese",
         "rawType": "bool",
         "type": "boolean"
        },
        {
         "name": "BMI Category_Overweight",
         "rawType": "bool",
         "type": "boolean"
        }
       ],
       "conversionMethod": "pd.DataFrame",
       "ref": "4962f27e-6a81-4aaf-939a-fe021649968a",
       "rows": [
        [
         "0",
         "-1.7530956904671209",
         "-1.2988869295661143",
         "-1.0982801090608083",
         "-0.8254182345212175",
         "0.3470205097281296",
         "1.6547186953714095",
         "-1.6195840368225138",
         "1.0041256843841395",
         "0.9388812333874961",
         "-0.3533059494205187",
         "-0.33000228967981626",
         "-0.26810236099005896",
         "False",
         "True",
         "False",
         "False",
         "False",
         "False",
         "False",
         "False",
         "False",
         "False",
         "False",
         "True",
         "False",
         "False",
         "False",
         "True"
        ],
        [
         "1",
         "-1.6376426550322374",
         "-1.1730362270641117",
         "-1.0982801090608083",
         "0.03984423118990614",
         "1.4755915587570028",
         "1.1704739441437821",
         "1.9700774454247496",
         "-0.8188986163909487",
         "0.8606411306052049",
         "-1.1012795556850208",
         "-0.4592387884654193",
         "-0.7556402038277333",
         "False",
         "True",
         "False",
         "True",
         "False",
         "False",
         "False",
         "False",
         "False",
         "False",
         "False",
         "False",
         "False",
         "True",
         "False",
         "False"
        ],
        [
         "2",
         "-1.6376426550322374",
         "-1.1730362270641117",
         "-1.0982801090608083",
         "0.03984423118990614",
         "1.4755915587570028",
         "1.1704739441437821",
         "1.9700774454247496",
         "-0.8188986163909487",
         "0.8606411306052049",
         "-1.1012795556850208",
         "-0.4592387884654193",
         "-0.7556402038277333",
         "False",
         "True",
         "False",
         "True",
         "False",
         "False",
         "False",
         "False",
         "False",
         "False",
         "False",
         "False",
         "False",
         "True",
         "False",
         "False"
        ],
        [
         "3",
         "-1.6376426550322374",
         "-1.550588334570117",
         "-2.771423737528191",
         "-1.4022598783286333",
         "1.4755915587570028",
         "3.591697700281918",
         "-2.3622726193564305",
         "2.8271499851592274",
         "2.816643700162491",
         "-0.8309276498062851",
         "1.4793086933186261",
         "0.8694859389645145",
         "False",
         "True",
         "False",
         "False",
         "False",
         "False",
         "False",
         "False",
         "True",
         "False",
         "False",
         "False",
         "False",
         "False",
         "True",
         "False"
        ],
        [
         "4",
         "-1.6376426550322374",
         "-1.550588334570117",
         "-2.771423737528191",
         "-1.4022598783286333",
         "1.4755915587570028",
         "3.591697700281918",
         "-2.3622726193564305",
         "2.8271499851592274",
         "2.816643700162491",
         "-0.8309276498062851",
         "1.4793086933186261",
         "0.8694859389645145",
         "False",
         "True",
         "False",
         "False",
         "False",
         "False",
         "False",
         "False",
         "True",
         "False",
         "False",
         "False",
         "False",
         "False",
         "True",
         "False"
        ]
       ],
       "shape": {
        "columns": 28,
        "rows": 5
       }
      },
      "text/html": [
       "<div>\n",
       "<style scoped>\n",
       "    .dataframe tbody tr th:only-of-type {\n",
       "        vertical-align: middle;\n",
       "    }\n",
       "\n",
       "    .dataframe tbody tr th {\n",
       "        vertical-align: top;\n",
       "    }\n",
       "\n",
       "    .dataframe thead th {\n",
       "        text-align: right;\n",
       "    }\n",
       "</style>\n",
       "<table border=\"1\" class=\"dataframe\">\n",
       "  <thead>\n",
       "    <tr style=\"text-align: right;\">\n",
       "      <th></th>\n",
       "      <th>Age</th>\n",
       "      <th>Sleep Duration</th>\n",
       "      <th>Quality of Sleep</th>\n",
       "      <th>Physical Activity Level</th>\n",
       "      <th>Stress Level</th>\n",
       "      <th>Heart Rate</th>\n",
       "      <th>Daily Steps</th>\n",
       "      <th>BMI Score</th>\n",
       "      <th>Health Risk Score</th>\n",
       "      <th>STI</th>\n",
       "      <th>...</th>\n",
       "      <th>Occupation_Manager</th>\n",
       "      <th>Occupation_Nurse</th>\n",
       "      <th>Occupation_Sales Representative</th>\n",
       "      <th>Occupation_Salesperson</th>\n",
       "      <th>Occupation_Scientist</th>\n",
       "      <th>Occupation_Software Engineer</th>\n",
       "      <th>Occupation_Teacher</th>\n",
       "      <th>BMI Category_Normal</th>\n",
       "      <th>BMI Category_Obese</th>\n",
       "      <th>BMI Category_Overweight</th>\n",
       "    </tr>\n",
       "  </thead>\n",
       "  <tbody>\n",
       "    <tr>\n",
       "      <th>0</th>\n",
       "      <td>-1.753096</td>\n",
       "      <td>-1.298887</td>\n",
       "      <td>-1.098280</td>\n",
       "      <td>-0.825418</td>\n",
       "      <td>0.347021</td>\n",
       "      <td>1.654719</td>\n",
       "      <td>-1.619584</td>\n",
       "      <td>1.004126</td>\n",
       "      <td>0.938881</td>\n",
       "      <td>-0.353306</td>\n",
       "      <td>...</td>\n",
       "      <td>False</td>\n",
       "      <td>False</td>\n",
       "      <td>False</td>\n",
       "      <td>False</td>\n",
       "      <td>False</td>\n",
       "      <td>True</td>\n",
       "      <td>False</td>\n",
       "      <td>False</td>\n",
       "      <td>False</td>\n",
       "      <td>True</td>\n",
       "    </tr>\n",
       "    <tr>\n",
       "      <th>1</th>\n",
       "      <td>-1.637643</td>\n",
       "      <td>-1.173036</td>\n",
       "      <td>-1.098280</td>\n",
       "      <td>0.039844</td>\n",
       "      <td>1.475592</td>\n",
       "      <td>1.170474</td>\n",
       "      <td>1.970077</td>\n",
       "      <td>-0.818899</td>\n",
       "      <td>0.860641</td>\n",
       "      <td>-1.101280</td>\n",
       "      <td>...</td>\n",
       "      <td>False</td>\n",
       "      <td>False</td>\n",
       "      <td>False</td>\n",
       "      <td>False</td>\n",
       "      <td>False</td>\n",
       "      <td>False</td>\n",
       "      <td>False</td>\n",
       "      <td>True</td>\n",
       "      <td>False</td>\n",
       "      <td>False</td>\n",
       "    </tr>\n",
       "    <tr>\n",
       "      <th>2</th>\n",
       "      <td>-1.637643</td>\n",
       "      <td>-1.173036</td>\n",
       "      <td>-1.098280</td>\n",
       "      <td>0.039844</td>\n",
       "      <td>1.475592</td>\n",
       "      <td>1.170474</td>\n",
       "      <td>1.970077</td>\n",
       "      <td>-0.818899</td>\n",
       "      <td>0.860641</td>\n",
       "      <td>-1.101280</td>\n",
       "      <td>...</td>\n",
       "      <td>False</td>\n",
       "      <td>False</td>\n",
       "      <td>False</td>\n",
       "      <td>False</td>\n",
       "      <td>False</td>\n",
       "      <td>False</td>\n",
       "      <td>False</td>\n",
       "      <td>True</td>\n",
       "      <td>False</td>\n",
       "      <td>False</td>\n",
       "    </tr>\n",
       "    <tr>\n",
       "      <th>3</th>\n",
       "      <td>-1.637643</td>\n",
       "      <td>-1.550588</td>\n",
       "      <td>-2.771424</td>\n",
       "      <td>-1.402260</td>\n",
       "      <td>1.475592</td>\n",
       "      <td>3.591698</td>\n",
       "      <td>-2.362273</td>\n",
       "      <td>2.827150</td>\n",
       "      <td>2.816644</td>\n",
       "      <td>-0.830928</td>\n",
       "      <td>...</td>\n",
       "      <td>False</td>\n",
       "      <td>False</td>\n",
       "      <td>True</td>\n",
       "      <td>False</td>\n",
       "      <td>False</td>\n",
       "      <td>False</td>\n",
       "      <td>False</td>\n",
       "      <td>False</td>\n",
       "      <td>True</td>\n",
       "      <td>False</td>\n",
       "    </tr>\n",
       "    <tr>\n",
       "      <th>4</th>\n",
       "      <td>-1.637643</td>\n",
       "      <td>-1.550588</td>\n",
       "      <td>-2.771424</td>\n",
       "      <td>-1.402260</td>\n",
       "      <td>1.475592</td>\n",
       "      <td>3.591698</td>\n",
       "      <td>-2.362273</td>\n",
       "      <td>2.827150</td>\n",
       "      <td>2.816644</td>\n",
       "      <td>-0.830928</td>\n",
       "      <td>...</td>\n",
       "      <td>False</td>\n",
       "      <td>False</td>\n",
       "      <td>True</td>\n",
       "      <td>False</td>\n",
       "      <td>False</td>\n",
       "      <td>False</td>\n",
       "      <td>False</td>\n",
       "      <td>False</td>\n",
       "      <td>True</td>\n",
       "      <td>False</td>\n",
       "    </tr>\n",
       "  </tbody>\n",
       "</table>\n",
       "<p>5 rows × 28 columns</p>\n",
       "</div>"
      ],
      "text/plain": [
       "        Age  Sleep Duration  Quality of Sleep  Physical Activity Level  \\\n",
       "0 -1.753096       -1.298887         -1.098280                -0.825418   \n",
       "1 -1.637643       -1.173036         -1.098280                 0.039844   \n",
       "2 -1.637643       -1.173036         -1.098280                 0.039844   \n",
       "3 -1.637643       -1.550588         -2.771424                -1.402260   \n",
       "4 -1.637643       -1.550588         -2.771424                -1.402260   \n",
       "\n",
       "   Stress Level  Heart Rate  Daily Steps  BMI Score  Health Risk Score  \\\n",
       "0      0.347021    1.654719    -1.619584   1.004126           0.938881   \n",
       "1      1.475592    1.170474     1.970077  -0.818899           0.860641   \n",
       "2      1.475592    1.170474     1.970077  -0.818899           0.860641   \n",
       "3      1.475592    3.591698    -2.362273   2.827150           2.816644   \n",
       "4      1.475592    3.591698    -2.362273   2.827150           2.816644   \n",
       "\n",
       "        STI  ...  Occupation_Manager  Occupation_Nurse  \\\n",
       "0 -0.353306  ...               False             False   \n",
       "1 -1.101280  ...               False             False   \n",
       "2 -1.101280  ...               False             False   \n",
       "3 -0.830928  ...               False             False   \n",
       "4 -0.830928  ...               False             False   \n",
       "\n",
       "   Occupation_Sales Representative  Occupation_Salesperson  \\\n",
       "0                            False                   False   \n",
       "1                            False                   False   \n",
       "2                            False                   False   \n",
       "3                             True                   False   \n",
       "4                             True                   False   \n",
       "\n",
       "   Occupation_Scientist  Occupation_Software Engineer  Occupation_Teacher  \\\n",
       "0                 False                          True               False   \n",
       "1                 False                         False               False   \n",
       "2                 False                         False               False   \n",
       "3                 False                         False               False   \n",
       "4                 False                         False               False   \n",
       "\n",
       "   BMI Category_Normal  BMI Category_Obese  BMI Category_Overweight  \n",
       "0                False               False                     True  \n",
       "1                 True               False                    False  \n",
       "2                 True               False                    False  \n",
       "3                False                True                    False  \n",
       "4                False                True                    False  \n",
       "\n",
       "[5 rows x 28 columns]"
      ]
     },
     "execution_count": 31,
     "metadata": {},
     "output_type": "execute_result"
    }
   ],
   "source": [
    "# One-hot encode categorical features\n",
    "cat_feat = X.select_dtypes(include=[\"object\"]).columns.tolist()\n",
    "X = pd.get_dummies(X, columns=cat_feat)\n",
    "X.head()"
   ]
  },
  {
   "cell_type": "code",
   "execution_count": 32,
   "metadata": {
    "execution": {
     "iopub.execute_input": "2025-06-14T09:37:27.109230Z",
     "iopub.status.busy": "2025-06-14T09:37:27.108948Z",
     "iopub.status.idle": "2025-06-14T09:37:27.116656Z",
     "shell.execute_reply": "2025-06-14T09:37:27.115595Z",
     "shell.execute_reply.started": "2025-06-14T09:37:27.109209Z"
    },
    "trusted": true
   },
   "outputs": [],
   "source": [
    "# Split data\n",
    "x_train, x_test, y_train, y_test = train_test_split(X, y, test_size=0.2, random_state=42)"
   ]
  },
  {
   "cell_type": "markdown",
   "metadata": {},
   "source": [
    "## **Modeling with Random Forest**"
   ]
  },
  {
   "cell_type": "code",
   "execution_count": 33,
   "metadata": {
    "execution": {
     "iopub.execute_input": "2025-06-14T09:37:27.117825Z",
     "iopub.status.busy": "2025-06-14T09:37:27.117499Z",
     "iopub.status.idle": "2025-06-14T09:37:27.449557Z",
     "shell.execute_reply": "2025-06-14T09:37:27.448495Z",
     "shell.execute_reply.started": "2025-06-14T09:37:27.117803Z"
    },
    "trusted": true
   },
   "outputs": [
    {
     "data": {
      "text/html": [
       "<style>#sk-container-id-1 {\n",
       "  /* Definition of color scheme common for light and dark mode */\n",
       "  --sklearn-color-text: #000;\n",
       "  --sklearn-color-text-muted: #666;\n",
       "  --sklearn-color-line: gray;\n",
       "  /* Definition of color scheme for unfitted estimators */\n",
       "  --sklearn-color-unfitted-level-0: #fff5e6;\n",
       "  --sklearn-color-unfitted-level-1: #f6e4d2;\n",
       "  --sklearn-color-unfitted-level-2: #ffe0b3;\n",
       "  --sklearn-color-unfitted-level-3: chocolate;\n",
       "  /* Definition of color scheme for fitted estimators */\n",
       "  --sklearn-color-fitted-level-0: #f0f8ff;\n",
       "  --sklearn-color-fitted-level-1: #d4ebff;\n",
       "  --sklearn-color-fitted-level-2: #b3dbfd;\n",
       "  --sklearn-color-fitted-level-3: cornflowerblue;\n",
       "\n",
       "  /* Specific color for light theme */\n",
       "  --sklearn-color-text-on-default-background: var(--sg-text-color, var(--theme-code-foreground, var(--jp-content-font-color1, black)));\n",
       "  --sklearn-color-background: var(--sg-background-color, var(--theme-background, var(--jp-layout-color0, white)));\n",
       "  --sklearn-color-border-box: var(--sg-text-color, var(--theme-code-foreground, var(--jp-content-font-color1, black)));\n",
       "  --sklearn-color-icon: #696969;\n",
       "\n",
       "  @media (prefers-color-scheme: dark) {\n",
       "    /* Redefinition of color scheme for dark theme */\n",
       "    --sklearn-color-text-on-default-background: var(--sg-text-color, var(--theme-code-foreground, var(--jp-content-font-color1, white)));\n",
       "    --sklearn-color-background: var(--sg-background-color, var(--theme-background, var(--jp-layout-color0, #111)));\n",
       "    --sklearn-color-border-box: var(--sg-text-color, var(--theme-code-foreground, var(--jp-content-font-color1, white)));\n",
       "    --sklearn-color-icon: #878787;\n",
       "  }\n",
       "}\n",
       "\n",
       "#sk-container-id-1 {\n",
       "  color: var(--sklearn-color-text);\n",
       "}\n",
       "\n",
       "#sk-container-id-1 pre {\n",
       "  padding: 0;\n",
       "}\n",
       "\n",
       "#sk-container-id-1 input.sk-hidden--visually {\n",
       "  border: 0;\n",
       "  clip: rect(1px 1px 1px 1px);\n",
       "  clip: rect(1px, 1px, 1px, 1px);\n",
       "  height: 1px;\n",
       "  margin: -1px;\n",
       "  overflow: hidden;\n",
       "  padding: 0;\n",
       "  position: absolute;\n",
       "  width: 1px;\n",
       "}\n",
       "\n",
       "#sk-container-id-1 div.sk-dashed-wrapped {\n",
       "  border: 1px dashed var(--sklearn-color-line);\n",
       "  margin: 0 0.4em 0.5em 0.4em;\n",
       "  box-sizing: border-box;\n",
       "  padding-bottom: 0.4em;\n",
       "  background-color: var(--sklearn-color-background);\n",
       "}\n",
       "\n",
       "#sk-container-id-1 div.sk-container {\n",
       "  /* jupyter's `normalize.less` sets `[hidden] { display: none; }`\n",
       "     but bootstrap.min.css set `[hidden] { display: none !important; }`\n",
       "     so we also need the `!important` here to be able to override the\n",
       "     default hidden behavior on the sphinx rendered scikit-learn.org.\n",
       "     See: https://github.com/scikit-learn/scikit-learn/issues/21755 */\n",
       "  display: inline-block !important;\n",
       "  position: relative;\n",
       "}\n",
       "\n",
       "#sk-container-id-1 div.sk-text-repr-fallback {\n",
       "  display: none;\n",
       "}\n",
       "\n",
       "div.sk-parallel-item,\n",
       "div.sk-serial,\n",
       "div.sk-item {\n",
       "  /* draw centered vertical line to link estimators */\n",
       "  background-image: linear-gradient(var(--sklearn-color-text-on-default-background), var(--sklearn-color-text-on-default-background));\n",
       "  background-size: 2px 100%;\n",
       "  background-repeat: no-repeat;\n",
       "  background-position: center center;\n",
       "}\n",
       "\n",
       "/* Parallel-specific style estimator block */\n",
       "\n",
       "#sk-container-id-1 div.sk-parallel-item::after {\n",
       "  content: \"\";\n",
       "  width: 100%;\n",
       "  border-bottom: 2px solid var(--sklearn-color-text-on-default-background);\n",
       "  flex-grow: 1;\n",
       "}\n",
       "\n",
       "#sk-container-id-1 div.sk-parallel {\n",
       "  display: flex;\n",
       "  align-items: stretch;\n",
       "  justify-content: center;\n",
       "  background-color: var(--sklearn-color-background);\n",
       "  position: relative;\n",
       "}\n",
       "\n",
       "#sk-container-id-1 div.sk-parallel-item {\n",
       "  display: flex;\n",
       "  flex-direction: column;\n",
       "}\n",
       "\n",
       "#sk-container-id-1 div.sk-parallel-item:first-child::after {\n",
       "  align-self: flex-end;\n",
       "  width: 50%;\n",
       "}\n",
       "\n",
       "#sk-container-id-1 div.sk-parallel-item:last-child::after {\n",
       "  align-self: flex-start;\n",
       "  width: 50%;\n",
       "}\n",
       "\n",
       "#sk-container-id-1 div.sk-parallel-item:only-child::after {\n",
       "  width: 0;\n",
       "}\n",
       "\n",
       "/* Serial-specific style estimator block */\n",
       "\n",
       "#sk-container-id-1 div.sk-serial {\n",
       "  display: flex;\n",
       "  flex-direction: column;\n",
       "  align-items: center;\n",
       "  background-color: var(--sklearn-color-background);\n",
       "  padding-right: 1em;\n",
       "  padding-left: 1em;\n",
       "}\n",
       "\n",
       "\n",
       "/* Toggleable style: style used for estimator/Pipeline/ColumnTransformer box that is\n",
       "clickable and can be expanded/collapsed.\n",
       "- Pipeline and ColumnTransformer use this feature and define the default style\n",
       "- Estimators will overwrite some part of the style using the `sk-estimator` class\n",
       "*/\n",
       "\n",
       "/* Pipeline and ColumnTransformer style (default) */\n",
       "\n",
       "#sk-container-id-1 div.sk-toggleable {\n",
       "  /* Default theme specific background. It is overwritten whether we have a\n",
       "  specific estimator or a Pipeline/ColumnTransformer */\n",
       "  background-color: var(--sklearn-color-background);\n",
       "}\n",
       "\n",
       "/* Toggleable label */\n",
       "#sk-container-id-1 label.sk-toggleable__label {\n",
       "  cursor: pointer;\n",
       "  display: flex;\n",
       "  width: 100%;\n",
       "  margin-bottom: 0;\n",
       "  padding: 0.5em;\n",
       "  box-sizing: border-box;\n",
       "  text-align: center;\n",
       "  align-items: start;\n",
       "  justify-content: space-between;\n",
       "  gap: 0.5em;\n",
       "}\n",
       "\n",
       "#sk-container-id-1 label.sk-toggleable__label .caption {\n",
       "  font-size: 0.6rem;\n",
       "  font-weight: lighter;\n",
       "  color: var(--sklearn-color-text-muted);\n",
       "}\n",
       "\n",
       "#sk-container-id-1 label.sk-toggleable__label-arrow:before {\n",
       "  /* Arrow on the left of the label */\n",
       "  content: \"▸\";\n",
       "  float: left;\n",
       "  margin-right: 0.25em;\n",
       "  color: var(--sklearn-color-icon);\n",
       "}\n",
       "\n",
       "#sk-container-id-1 label.sk-toggleable__label-arrow:hover:before {\n",
       "  color: var(--sklearn-color-text);\n",
       "}\n",
       "\n",
       "/* Toggleable content - dropdown */\n",
       "\n",
       "#sk-container-id-1 div.sk-toggleable__content {\n",
       "  max-height: 0;\n",
       "  max-width: 0;\n",
       "  overflow: hidden;\n",
       "  text-align: left;\n",
       "  /* unfitted */\n",
       "  background-color: var(--sklearn-color-unfitted-level-0);\n",
       "}\n",
       "\n",
       "#sk-container-id-1 div.sk-toggleable__content.fitted {\n",
       "  /* fitted */\n",
       "  background-color: var(--sklearn-color-fitted-level-0);\n",
       "}\n",
       "\n",
       "#sk-container-id-1 div.sk-toggleable__content pre {\n",
       "  margin: 0.2em;\n",
       "  border-radius: 0.25em;\n",
       "  color: var(--sklearn-color-text);\n",
       "  /* unfitted */\n",
       "  background-color: var(--sklearn-color-unfitted-level-0);\n",
       "}\n",
       "\n",
       "#sk-container-id-1 div.sk-toggleable__content.fitted pre {\n",
       "  /* unfitted */\n",
       "  background-color: var(--sklearn-color-fitted-level-0);\n",
       "}\n",
       "\n",
       "#sk-container-id-1 input.sk-toggleable__control:checked~div.sk-toggleable__content {\n",
       "  /* Expand drop-down */\n",
       "  max-height: 200px;\n",
       "  max-width: 100%;\n",
       "  overflow: auto;\n",
       "}\n",
       "\n",
       "#sk-container-id-1 input.sk-toggleable__control:checked~label.sk-toggleable__label-arrow:before {\n",
       "  content: \"▾\";\n",
       "}\n",
       "\n",
       "/* Pipeline/ColumnTransformer-specific style */\n",
       "\n",
       "#sk-container-id-1 div.sk-label input.sk-toggleable__control:checked~label.sk-toggleable__label {\n",
       "  color: var(--sklearn-color-text);\n",
       "  background-color: var(--sklearn-color-unfitted-level-2);\n",
       "}\n",
       "\n",
       "#sk-container-id-1 div.sk-label.fitted input.sk-toggleable__control:checked~label.sk-toggleable__label {\n",
       "  background-color: var(--sklearn-color-fitted-level-2);\n",
       "}\n",
       "\n",
       "/* Estimator-specific style */\n",
       "\n",
       "/* Colorize estimator box */\n",
       "#sk-container-id-1 div.sk-estimator input.sk-toggleable__control:checked~label.sk-toggleable__label {\n",
       "  /* unfitted */\n",
       "  background-color: var(--sklearn-color-unfitted-level-2);\n",
       "}\n",
       "\n",
       "#sk-container-id-1 div.sk-estimator.fitted input.sk-toggleable__control:checked~label.sk-toggleable__label {\n",
       "  /* fitted */\n",
       "  background-color: var(--sklearn-color-fitted-level-2);\n",
       "}\n",
       "\n",
       "#sk-container-id-1 div.sk-label label.sk-toggleable__label,\n",
       "#sk-container-id-1 div.sk-label label {\n",
       "  /* The background is the default theme color */\n",
       "  color: var(--sklearn-color-text-on-default-background);\n",
       "}\n",
       "\n",
       "/* On hover, darken the color of the background */\n",
       "#sk-container-id-1 div.sk-label:hover label.sk-toggleable__label {\n",
       "  color: var(--sklearn-color-text);\n",
       "  background-color: var(--sklearn-color-unfitted-level-2);\n",
       "}\n",
       "\n",
       "/* Label box, darken color on hover, fitted */\n",
       "#sk-container-id-1 div.sk-label.fitted:hover label.sk-toggleable__label.fitted {\n",
       "  color: var(--sklearn-color-text);\n",
       "  background-color: var(--sklearn-color-fitted-level-2);\n",
       "}\n",
       "\n",
       "/* Estimator label */\n",
       "\n",
       "#sk-container-id-1 div.sk-label label {\n",
       "  font-family: monospace;\n",
       "  font-weight: bold;\n",
       "  display: inline-block;\n",
       "  line-height: 1.2em;\n",
       "}\n",
       "\n",
       "#sk-container-id-1 div.sk-label-container {\n",
       "  text-align: center;\n",
       "}\n",
       "\n",
       "/* Estimator-specific */\n",
       "#sk-container-id-1 div.sk-estimator {\n",
       "  font-family: monospace;\n",
       "  border: 1px dotted var(--sklearn-color-border-box);\n",
       "  border-radius: 0.25em;\n",
       "  box-sizing: border-box;\n",
       "  margin-bottom: 0.5em;\n",
       "  /* unfitted */\n",
       "  background-color: var(--sklearn-color-unfitted-level-0);\n",
       "}\n",
       "\n",
       "#sk-container-id-1 div.sk-estimator.fitted {\n",
       "  /* fitted */\n",
       "  background-color: var(--sklearn-color-fitted-level-0);\n",
       "}\n",
       "\n",
       "/* on hover */\n",
       "#sk-container-id-1 div.sk-estimator:hover {\n",
       "  /* unfitted */\n",
       "  background-color: var(--sklearn-color-unfitted-level-2);\n",
       "}\n",
       "\n",
       "#sk-container-id-1 div.sk-estimator.fitted:hover {\n",
       "  /* fitted */\n",
       "  background-color: var(--sklearn-color-fitted-level-2);\n",
       "}\n",
       "\n",
       "/* Specification for estimator info (e.g. \"i\" and \"?\") */\n",
       "\n",
       "/* Common style for \"i\" and \"?\" */\n",
       "\n",
       ".sk-estimator-doc-link,\n",
       "a:link.sk-estimator-doc-link,\n",
       "a:visited.sk-estimator-doc-link {\n",
       "  float: right;\n",
       "  font-size: smaller;\n",
       "  line-height: 1em;\n",
       "  font-family: monospace;\n",
       "  background-color: var(--sklearn-color-background);\n",
       "  border-radius: 1em;\n",
       "  height: 1em;\n",
       "  width: 1em;\n",
       "  text-decoration: none !important;\n",
       "  margin-left: 0.5em;\n",
       "  text-align: center;\n",
       "  /* unfitted */\n",
       "  border: var(--sklearn-color-unfitted-level-1) 1pt solid;\n",
       "  color: var(--sklearn-color-unfitted-level-1);\n",
       "}\n",
       "\n",
       ".sk-estimator-doc-link.fitted,\n",
       "a:link.sk-estimator-doc-link.fitted,\n",
       "a:visited.sk-estimator-doc-link.fitted {\n",
       "  /* fitted */\n",
       "  border: var(--sklearn-color-fitted-level-1) 1pt solid;\n",
       "  color: var(--sklearn-color-fitted-level-1);\n",
       "}\n",
       "\n",
       "/* On hover */\n",
       "div.sk-estimator:hover .sk-estimator-doc-link:hover,\n",
       ".sk-estimator-doc-link:hover,\n",
       "div.sk-label-container:hover .sk-estimator-doc-link:hover,\n",
       ".sk-estimator-doc-link:hover {\n",
       "  /* unfitted */\n",
       "  background-color: var(--sklearn-color-unfitted-level-3);\n",
       "  color: var(--sklearn-color-background);\n",
       "  text-decoration: none;\n",
       "}\n",
       "\n",
       "div.sk-estimator.fitted:hover .sk-estimator-doc-link.fitted:hover,\n",
       ".sk-estimator-doc-link.fitted:hover,\n",
       "div.sk-label-container:hover .sk-estimator-doc-link.fitted:hover,\n",
       ".sk-estimator-doc-link.fitted:hover {\n",
       "  /* fitted */\n",
       "  background-color: var(--sklearn-color-fitted-level-3);\n",
       "  color: var(--sklearn-color-background);\n",
       "  text-decoration: none;\n",
       "}\n",
       "\n",
       "/* Span, style for the box shown on hovering the info icon */\n",
       ".sk-estimator-doc-link span {\n",
       "  display: none;\n",
       "  z-index: 9999;\n",
       "  position: relative;\n",
       "  font-weight: normal;\n",
       "  right: .2ex;\n",
       "  padding: .5ex;\n",
       "  margin: .5ex;\n",
       "  width: min-content;\n",
       "  min-width: 20ex;\n",
       "  max-width: 50ex;\n",
       "  color: var(--sklearn-color-text);\n",
       "  box-shadow: 2pt 2pt 4pt #999;\n",
       "  /* unfitted */\n",
       "  background: var(--sklearn-color-unfitted-level-0);\n",
       "  border: .5pt solid var(--sklearn-color-unfitted-level-3);\n",
       "}\n",
       "\n",
       ".sk-estimator-doc-link.fitted span {\n",
       "  /* fitted */\n",
       "  background: var(--sklearn-color-fitted-level-0);\n",
       "  border: var(--sklearn-color-fitted-level-3);\n",
       "}\n",
       "\n",
       ".sk-estimator-doc-link:hover span {\n",
       "  display: block;\n",
       "}\n",
       "\n",
       "/* \"?\"-specific style due to the `<a>` HTML tag */\n",
       "\n",
       "#sk-container-id-1 a.estimator_doc_link {\n",
       "  float: right;\n",
       "  font-size: 1rem;\n",
       "  line-height: 1em;\n",
       "  font-family: monospace;\n",
       "  background-color: var(--sklearn-color-background);\n",
       "  border-radius: 1rem;\n",
       "  height: 1rem;\n",
       "  width: 1rem;\n",
       "  text-decoration: none;\n",
       "  /* unfitted */\n",
       "  color: var(--sklearn-color-unfitted-level-1);\n",
       "  border: var(--sklearn-color-unfitted-level-1) 1pt solid;\n",
       "}\n",
       "\n",
       "#sk-container-id-1 a.estimator_doc_link.fitted {\n",
       "  /* fitted */\n",
       "  border: var(--sklearn-color-fitted-level-1) 1pt solid;\n",
       "  color: var(--sklearn-color-fitted-level-1);\n",
       "}\n",
       "\n",
       "/* On hover */\n",
       "#sk-container-id-1 a.estimator_doc_link:hover {\n",
       "  /* unfitted */\n",
       "  background-color: var(--sklearn-color-unfitted-level-3);\n",
       "  color: var(--sklearn-color-background);\n",
       "  text-decoration: none;\n",
       "}\n",
       "\n",
       "#sk-container-id-1 a.estimator_doc_link.fitted:hover {\n",
       "  /* fitted */\n",
       "  background-color: var(--sklearn-color-fitted-level-3);\n",
       "}\n",
       "</style><div id=\"sk-container-id-1\" class=\"sk-top-container\"><div class=\"sk-text-repr-fallback\"><pre>RandomForestClassifier(n_estimators=200, random_state=42)</pre><b>In a Jupyter environment, please rerun this cell to show the HTML representation or trust the notebook. <br />On GitHub, the HTML representation is unable to render, please try loading this page with nbviewer.org.</b></div><div class=\"sk-container\" hidden><div class=\"sk-item\"><div class=\"sk-estimator fitted sk-toggleable\"><input class=\"sk-toggleable__control sk-hidden--visually\" id=\"sk-estimator-id-1\" type=\"checkbox\" checked><label for=\"sk-estimator-id-1\" class=\"sk-toggleable__label fitted sk-toggleable__label-arrow\"><div><div>RandomForestClassifier</div></div><div><a class=\"sk-estimator-doc-link fitted\" rel=\"noreferrer\" target=\"_blank\" href=\"https://scikit-learn.org/1.6/modules/generated/sklearn.ensemble.RandomForestClassifier.html\">?<span>Documentation for RandomForestClassifier</span></a><span class=\"sk-estimator-doc-link fitted\">i<span>Fitted</span></span></div></label><div class=\"sk-toggleable__content fitted\"><pre>RandomForestClassifier(n_estimators=200, random_state=42)</pre></div> </div></div></div></div>"
      ],
      "text/plain": [
       "RandomForestClassifier(n_estimators=200, random_state=42)"
      ]
     },
     "execution_count": 33,
     "metadata": {},
     "output_type": "execute_result"
    }
   ],
   "source": [
    "rf_model = RandomForestClassifier(n_estimators=200, random_state=42)\n",
    "rf_model.fit(x_train, y_train)"
   ]
  },
  {
   "cell_type": "code",
   "execution_count": 34,
   "metadata": {
    "execution": {
     "iopub.execute_input": "2025-06-14T09:37:27.450699Z",
     "iopub.status.busy": "2025-06-14T09:37:27.450405Z",
     "iopub.status.idle": "2025-06-14T09:37:27.473756Z",
     "shell.execute_reply": "2025-06-14T09:37:27.472432Z",
     "shell.execute_reply.started": "2025-06-14T09:37:27.450678Z"
    },
    "trusted": true
   },
   "outputs": [],
   "source": [
    "y_pred_rf = rf_model.predict(x_test)"
   ]
  },
  {
   "cell_type": "markdown",
   "metadata": {},
   "source": [
    "## **ModelEvaluation**"
   ]
  },
  {
   "cell_type": "code",
   "execution_count": 35,
   "metadata": {
    "execution": {
     "iopub.execute_input": "2025-06-14T09:37:27.475035Z",
     "iopub.status.busy": "2025-06-14T09:37:27.474767Z",
     "iopub.status.idle": "2025-06-14T09:37:27.481535Z",
     "shell.execute_reply": "2025-06-14T09:37:27.480362Z",
     "shell.execute_reply.started": "2025-06-14T09:37:27.475013Z"
    },
    "trusted": true
   },
   "outputs": [
    {
     "name": "stdout",
     "output_type": "stream",
     "text": [
      "Accuracy: 88.0000%\n"
     ]
    }
   ],
   "source": [
    "# Model Accuracy\n",
    "accuracy = accuracy_score(y_test, y_pred_rf)\n",
    "print(f'Accuracy: {accuracy*100:.4f}%')"
   ]
  },
  {
   "cell_type": "code",
   "execution_count": 36,
   "metadata": {
    "execution": {
     "iopub.execute_input": "2025-06-14T09:37:27.482703Z",
     "iopub.status.busy": "2025-06-14T09:37:27.482375Z",
     "iopub.status.idle": "2025-06-14T09:37:27.507464Z",
     "shell.execute_reply": "2025-06-14T09:37:27.506434Z",
     "shell.execute_reply.started": "2025-06-14T09:37:27.482680Z"
    },
    "trusted": true
   },
   "outputs": [
    {
     "name": "stdout",
     "output_type": "stream",
     "text": [
      "Confusion Matrix:\n"
     ]
    },
    {
     "data": {
      "text/plain": [
       "array([[13,  1,  2],\n",
       "       [ 1, 42,  0],\n",
       "       [ 4,  1, 11]], dtype=int64)"
      ]
     },
     "execution_count": 36,
     "metadata": {},
     "output_type": "execute_result"
    }
   ],
   "source": [
    "# Confusion Matrix\n",
    "conf_matrix = confusion_matrix(y_test, y_pred_rf)\n",
    "print('Confusion Matrix:')\n",
    "conf_matrix"
   ]
  },
  {
   "cell_type": "code",
   "execution_count": 37,
   "metadata": {
    "execution": {
     "iopub.execute_input": "2025-06-14T09:37:27.508812Z",
     "iopub.status.busy": "2025-06-14T09:37:27.508508Z",
     "iopub.status.idle": "2025-06-14T09:37:27.538870Z",
     "shell.execute_reply": "2025-06-14T09:37:27.537877Z",
     "shell.execute_reply.started": "2025-06-14T09:37:27.508792Z"
    },
    "trusted": true
   },
   "outputs": [
    {
     "name": "stdout",
     "output_type": "stream",
     "text": [
      "Classification Report:\n"
     ]
    },
    {
     "data": {
      "text/plain": [
       "'              precision    recall  f1-score   support\\n\\n           0       0.72      0.81      0.76        16\\n           1       0.95      0.98      0.97        43\\n           2       0.85      0.69      0.76        16\\n\\n    accuracy                           0.88        75\\n   macro avg       0.84      0.83      0.83        75\\nweighted avg       0.88      0.88      0.88        75\\n'"
      ]
     },
     "execution_count": 37,
     "metadata": {},
     "output_type": "execute_result"
    }
   ],
   "source": [
    "# Classification Report\n",
    "class_report = classification_report(y_test, y_pred_rf)\n",
    "print('Classification Report:')\n",
    "class_report"
   ]
  },
  {
   "cell_type": "code",
   "execution_count": 38,
   "metadata": {
    "execution": {
     "iopub.execute_input": "2025-06-14T09:38:42.194598Z",
     "iopub.status.busy": "2025-06-14T09:38:42.194233Z",
     "iopub.status.idle": "2025-06-14T09:38:42.846109Z",
     "shell.execute_reply": "2025-06-14T09:38:42.845082Z",
     "shell.execute_reply.started": "2025-06-14T09:38:42.194573Z"
    },
    "trusted": true
   },
   "outputs": [
    {
     "data": {
      "image/png": "[encoded data removed]",
      "text/plain": [
       "<Figure size 600x400 with 2 Axes>"
      ]
     },
     "metadata": {},
     "output_type": "display_data"
    }
   ],
   "source": [
    "# Visualize and save confusion matrix\n",
    "plt.figure(figsize=(6, 4))\n",
    "sns.heatmap(conf_matrix, annot=True, fmt=\"d\", cmap=\"Blues\", \n",
    "            xticklabels=encoder.classes_, yticklabels=encoder.classes_)\n",
    "plt.xlabel(\"Predicted Label\")\n",
    "plt.ylabel(\"True Label\")\n",
    "plt.title(\"Confusion Matrix Visualization\")\n",
    "plt.savefig(\"models/confusion_matrix.png\", dpi=300, bbox_inches=\"tight\")\n",
    "plt.show()"
   ]
  },
  {
   "cell_type": "code",
   "execution_count": 39,
   "metadata": {
    "execution": {
     "iopub.execute_input": "2025-06-14T09:38:58.184211Z",
     "iopub.status.busy": "2025-06-14T09:38:58.183837Z",
     "iopub.status.idle": "2025-06-14T09:38:58.201177Z",
     "shell.execute_reply": "2025-06-14T09:38:58.200240Z",
     "shell.execute_reply.started": "2025-06-14T09:38:58.184180Z"
    },
    "trusted": true
   },
   "outputs": [],
   "source": [
    "# Save model and preprocessors in models folder\n",
    "with open(\"models/rf_model.pkl\", \"wb\") as f:\n",
    "    pickle.dump(rf_model, f)\n",
    "with open(\"models/label_encoder.pkl\", \"wb\") as f:\n",
    "    pickle.dump(encoder, f)\n",
    "with open(\"models/scaler.pkl\", \"wb\") as f:\n",
    "    pickle.dump(scaler, f)\n",
    "with open(\"models/training_columns.pkl\", \"wb\") as f:\n",
    "    pickle.dump(X.columns.tolist(), f)\n"
   ]
  },
  {
   "cell_type": "code",
   "execution_count": 40,
   "metadata": {
    "execution": {
     "iopub.execute_input": "2025-06-14T09:39:14.325640Z",
     "iopub.status.busy": "2025-06-14T09:39:14.325267Z",
     "iopub.status.idle": "2025-06-14T09:39:14.331201Z",
     "shell.execute_reply": "2025-06-14T09:39:14.330306Z",
     "shell.execute_reply.started": "2025-06-14T09:39:14.325616Z"
    },
    "trusted": true
   },
   "outputs": [],
   "source": [
    "# Save accuracy and classification report\n",
    "with open(\"models/accuracy.txt\", \"w\") as f:\n",
    "    f.write(f\"{accuracy*100:.4f}\")\n",
    "with open(\"models/classification_report.txt\", \"w\") as f:\n",
    "    f.write(class_report)"
   ]
  },
  {
   "cell_type": "markdown",
   "metadata": {},
   "source": [
    "### **Additional EDA**"
   ]
  },
  {
   "cell_type": "code",
   "execution_count": 41,
   "metadata": {
    "execution": {
     "iopub.execute_input": "2025-06-14T09:39:24.742407Z",
     "iopub.status.busy": "2025-06-14T09:39:24.742068Z",
     "iopub.status.idle": "2025-06-14T09:39:24.761176Z",
     "shell.execute_reply": "2025-06-14T09:39:24.759959Z",
     "shell.execute_reply.started": "2025-06-14T09:39:24.742386Z"
    },
    "trusted": true
   },
   "outputs": [
    {
     "data": {
      "application/vnd.microsoft.datawrangler.viewer.v0+json": {
       "columns": [
        {
         "name": "Age Group",
         "rawType": "category",
         "type": "unknown"
        },
        {
         "name": "Sleep Duration",
         "rawType": "float64",
         "type": "float"
        },
        {
         "name": "Quality of Sleep",
         "rawType": "float64",
         "type": "float"
        }
       ],
       "conversionMethod": "pd.DataFrame",
       "ref": "9b9c252c-a4cf-4818-87b6-02ee0a2f79f2",
       "rows": [
        [
         "18-30",
         "6.47",
         "5.79"
        ],
        [
         "31-40",
         "7.07",
         "7.23"
        ],
        [
         "41-50",
         "6.91",
         "6.97"
        ],
        [
         "51-60",
         "7.63",
         "8.17"
        ]
       ],
       "shape": {
        "columns": 2,
        "rows": 4
       }
      },
      "text/html": [
       "<div>\n",
       "<style scoped>\n",
       "    .dataframe tbody tr th:only-of-type {\n",
       "        vertical-align: middle;\n",
       "    }\n",
       "\n",
       "    .dataframe tbody tr th {\n",
       "        vertical-align: top;\n",
       "    }\n",
       "\n",
       "    .dataframe thead th {\n",
       "        text-align: right;\n",
       "    }\n",
       "</style>\n",
       "<table border=\"1\" class=\"dataframe\">\n",
       "  <thead>\n",
       "    <tr style=\"text-align: right;\">\n",
       "      <th></th>\n",
       "      <th>Sleep Duration</th>\n",
       "      <th>Quality of Sleep</th>\n",
       "    </tr>\n",
       "    <tr>\n",
       "      <th>Age Group</th>\n",
       "      <th></th>\n",
       "      <th></th>\n",
       "    </tr>\n",
       "  </thead>\n",
       "  <tbody>\n",
       "    <tr>\n",
       "      <th>18-30</th>\n",
       "      <td>6.47</td>\n",
       "      <td>5.79</td>\n",
       "    </tr>\n",
       "    <tr>\n",
       "      <th>31-40</th>\n",
       "      <td>7.07</td>\n",
       "      <td>7.23</td>\n",
       "    </tr>\n",
       "    <tr>\n",
       "      <th>41-50</th>\n",
       "      <td>6.91</td>\n",
       "      <td>6.97</td>\n",
       "    </tr>\n",
       "    <tr>\n",
       "      <th>51-60</th>\n",
       "      <td>7.63</td>\n",
       "      <td>8.17</td>\n",
       "    </tr>\n",
       "  </tbody>\n",
       "</table>\n",
       "</div>"
      ],
      "text/plain": [
       "           Sleep Duration  Quality of Sleep\n",
       "Age Group                                  \n",
       "18-30                6.47              5.79\n",
       "31-40                7.07              7.23\n",
       "41-50                6.91              6.97\n",
       "51-60                7.63              8.17"
      ]
     },
     "execution_count": 41,
     "metadata": {},
     "output_type": "execute_result"
    }
   ],
   "source": [
    "# Q: How does Sleep Duration and Sleep Quality vary across different age groups?\n",
    "age_bins = [18, 30, 40, 50, 60]\n",
    "age_labels = ['18-30', '31-40', '41-50', '51-60']\n",
    "data['Age Group'] = pd.cut(data['Age'], bins=age_bins, labels=age_labels, right=False)\n",
    "avg_sleep = data.groupby('Age Group', observed=True)[['Sleep Duration', 'Quality of Sleep']].mean().round(2)\n",
    "avg_sleep.to_csv(\"eda_results/age_group_sleep.csv\")\n",
    "avg_sleep"
   ]
  },
  {
   "cell_type": "code",
   "execution_count": 42,
   "metadata": {
    "execution": {
     "iopub.execute_input": "2025-06-14T09:40:37.722385Z",
     "iopub.status.busy": "2025-06-14T09:40:37.722082Z",
     "iopub.status.idle": "2025-06-14T09:40:37.737071Z",
     "shell.execute_reply": "2025-06-14T09:40:37.736065Z",
     "shell.execute_reply.started": "2025-06-14T09:40:37.722362Z"
    },
    "trusted": true
   },
   "outputs": [
    {
     "data": {
      "application/vnd.microsoft.datawrangler.viewer.v0+json": {
       "columns": [
        {
         "name": "Quality of Sleep",
         "rawType": "int64",
         "type": "integer"
        },
        {
         "name": "Systolic",
         "rawType": "float64",
         "type": "float"
        },
        {
         "name": "Heart Rate",
         "rawType": "float64",
         "type": "float"
        },
        {
         "name": "Daily Steps",
         "rawType": "float64",
         "type": "float"
        }
       ],
       "conversionMethod": "pd.DataFrame",
       "ref": "01509c1b-39dc-467f-ab8e-b6e644bde65c",
       "rows": [
        [
         "4",
         "136.4",
         "83.4",
         "3880.0"
        ],
        [
         "5",
         "130.57142857142858",
         "77.71428571428571",
         "4257.142857142857"
        ],
        [
         "6",
         "131.04761904761904",
         "73.20952380952382",
         "7092.380952380952"
        ],
        [
         "7",
         "127.7012987012987",
         "69.41558441558442",
         "6659.74025974026"
        ],
        [
         "8",
         "124.09174311926606",
         "68.63302752293578",
         "7462.385321100917"
        ],
        [
         "9",
         "131.88732394366198",
         "67.15492957746478",
         "6047.887323943662"
        ]
       ],
       "shape": {
        "columns": 3,
        "rows": 6
       }
      },
      "text/html": [
       "<div>\n",
       "<style scoped>\n",
       "    .dataframe tbody tr th:only-of-type {\n",
       "        vertical-align: middle;\n",
       "    }\n",
       "\n",
       "    .dataframe tbody tr th {\n",
       "        vertical-align: top;\n",
       "    }\n",
       "\n",
       "    .dataframe thead th {\n",
       "        text-align: right;\n",
       "    }\n",
       "</style>\n",
       "<table border=\"1\" class=\"dataframe\">\n",
       "  <thead>\n",
       "    <tr style=\"text-align: right;\">\n",
       "      <th></th>\n",
       "      <th>Systolic</th>\n",
       "      <th>Heart Rate</th>\n",
       "      <th>Daily Steps</th>\n",
       "    </tr>\n",
       "    <tr>\n",
       "      <th>Quality of Sleep</th>\n",
       "      <th></th>\n",
       "      <th></th>\n",
       "      <th></th>\n",
       "    </tr>\n",
       "  </thead>\n",
       "  <tbody>\n",
       "    <tr>\n",
       "      <th>4</th>\n",
       "      <td>136.400000</td>\n",
       "      <td>83.400000</td>\n",
       "      <td>3880.000000</td>\n",
       "    </tr>\n",
       "    <tr>\n",
       "      <th>5</th>\n",
       "      <td>130.571429</td>\n",
       "      <td>77.714286</td>\n",
       "      <td>4257.142857</td>\n",
       "    </tr>\n",
       "    <tr>\n",
       "      <th>6</th>\n",
       "      <td>131.047619</td>\n",
       "      <td>73.209524</td>\n",
       "      <td>7092.380952</td>\n",
       "    </tr>\n",
       "    <tr>\n",
       "      <th>7</th>\n",
       "      <td>127.701299</td>\n",
       "      <td>69.415584</td>\n",
       "      <td>6659.740260</td>\n",
       "    </tr>\n",
       "    <tr>\n",
       "      <th>8</th>\n",
       "      <td>124.091743</td>\n",
       "      <td>68.633028</td>\n",
       "      <td>7462.385321</td>\n",
       "    </tr>\n",
       "    <tr>\n",
       "      <th>9</th>\n",
       "      <td>131.887324</td>\n",
       "      <td>67.154930</td>\n",
       "      <td>6047.887324</td>\n",
       "    </tr>\n",
       "  </tbody>\n",
       "</table>\n",
       "</div>"
      ],
      "text/plain": [
       "                    Systolic  Heart Rate  Daily Steps\n",
       "Quality of Sleep                                     \n",
       "4                 136.400000   83.400000  3880.000000\n",
       "5                 130.571429   77.714286  4257.142857\n",
       "6                 131.047619   73.209524  7092.380952\n",
       "7                 127.701299   69.415584  6659.740260\n",
       "8                 124.091743   68.633028  7462.385321\n",
       "9                 131.887324   67.154930  6047.887324"
      ]
     },
     "execution_count": 42,
     "metadata": {},
     "output_type": "execute_result"
    }
   ],
   "source": [
    "# Q: How do Blood Pressure, Heart Rate, and Daily Steps vary across different levels of Sleep Quality?\n",
    "#data['Systolic BP'] = data['Blood Pressure'].str.split('/').str[0].astype(float)\n",
    "table = data.groupby('Quality of Sleep')[['Systolic', 'Heart Rate', 'Daily Steps']].mean()\n",
    "table.to_csv(\"eda_results/sleep_quality_metrics.csv\")\n",
    "table"
   ]
  },
  {
   "cell_type": "code",
   "execution_count": 43,
   "metadata": {
    "execution": {
     "iopub.execute_input": "2025-06-14T09:39:49.025585Z",
     "iopub.status.busy": "2025-06-14T09:39:49.025145Z",
     "iopub.status.idle": "2025-06-14T09:39:49.045172Z",
     "shell.execute_reply": "2025-06-14T09:39:49.043986Z",
     "shell.execute_reply.started": "2025-06-14T09:39:49.025563Z"
    },
    "trusted": true
   },
   "outputs": [
    {
     "data": {
      "application/vnd.microsoft.datawrangler.viewer.v0+json": {
       "columns": [
        {
         "name": "index",
         "rawType": "object",
         "type": "string"
        },
        {
         "name": "skew",
         "rawType": "float64",
         "type": "float"
        },
        {
         "name": "kurtosis",
         "rawType": "float64",
         "type": "float"
        }
       ],
       "conversionMethod": "pd.DataFrame",
       "ref": "f8774f38-348a-4e9f-973c-ea26133f6cea",
       "rows": [
        [
         "Age",
         "0.2572221422742844",
         "-0.9097795476259583"
        ],
        [
         "Sleep Duration",
         "0.037554389846484834",
         "-1.286506239045075"
        ],
        [
         "Quality of Sleep",
         "-0.20744763173836073",
         "-0.7482755418548042"
        ],
        [
         "Physical Activity Level",
         "0.07448690272010197",
         "-1.2660677718961595"
        ],
        [
         "Stress Level",
         "0.15432958161578225",
         "-1.3273065644578361"
        ],
        [
         "Heart Rate",
         "1.2248235470533522",
         "2.28645466720358"
        ],
        [
         "Daily Steps",
         "0.17827733092832274",
         "-0.3940306018221511"
        ]
       ],
       "shape": {
        "columns": 2,
        "rows": 7
       }
      },
      "text/html": [
       "<div>\n",
       "<style scoped>\n",
       "    .dataframe tbody tr th:only-of-type {\n",
       "        vertical-align: middle;\n",
       "    }\n",
       "\n",
       "    .dataframe tbody tr th {\n",
       "        vertical-align: top;\n",
       "    }\n",
       "\n",
       "    .dataframe thead th {\n",
       "        text-align: right;\n",
       "    }\n",
       "</style>\n",
       "<table border=\"1\" class=\"dataframe\">\n",
       "  <thead>\n",
       "    <tr style=\"text-align: right;\">\n",
       "      <th></th>\n",
       "      <th>skew</th>\n",
       "      <th>kurtosis</th>\n",
       "    </tr>\n",
       "  </thead>\n",
       "  <tbody>\n",
       "    <tr>\n",
       "      <th>Age</th>\n",
       "      <td>0.257222</td>\n",
       "      <td>-0.909780</td>\n",
       "    </tr>\n",
       "    <tr>\n",
       "      <th>Sleep Duration</th>\n",
       "      <td>0.037554</td>\n",
       "      <td>-1.286506</td>\n",
       "    </tr>\n",
       "    <tr>\n",
       "      <th>Quality of Sleep</th>\n",
       "      <td>-0.207448</td>\n",
       "      <td>-0.748276</td>\n",
       "    </tr>\n",
       "    <tr>\n",
       "      <th>Physical Activity Level</th>\n",
       "      <td>0.074487</td>\n",
       "      <td>-1.266068</td>\n",
       "    </tr>\n",
       "    <tr>\n",
       "      <th>Stress Level</th>\n",
       "      <td>0.154330</td>\n",
       "      <td>-1.327307</td>\n",
       "    </tr>\n",
       "    <tr>\n",
       "      <th>Heart Rate</th>\n",
       "      <td>1.224824</td>\n",
       "      <td>2.286455</td>\n",
       "    </tr>\n",
       "    <tr>\n",
       "      <th>Daily Steps</th>\n",
       "      <td>0.178277</td>\n",
       "      <td>-0.394031</td>\n",
       "    </tr>\n",
       "  </tbody>\n",
       "</table>\n",
       "</div>"
      ],
      "text/plain": [
       "                             skew  kurtosis\n",
       "Age                      0.257222 -0.909780\n",
       "Sleep Duration           0.037554 -1.286506\n",
       "Quality of Sleep        -0.207448 -0.748276\n",
       "Physical Activity Level  0.074487 -1.266068\n",
       "Stress Level             0.154330 -1.327307\n",
       "Heart Rate               1.224824  2.286455\n",
       "Daily Steps              0.178277 -0.394031"
      ]
     },
     "execution_count": 43,
     "metadata": {},
     "output_type": "execute_result"
    }
   ],
   "source": [
    "# Feature Distribution Analysis\n",
    "distribution_stats = data[numeric_cols].agg(['skew', 'kurtosis']).T\n",
    "distribution_stats.to_csv(\"eda_results/distribution_stats.csv\")\n",
    "distribution_stats"
   ]
  },
  {
   "cell_type": "code",
   "execution_count": 44,
   "metadata": {
    "execution": {
     "iopub.execute_input": "2025-06-14T09:39:52.836814Z",
     "iopub.status.busy": "2025-06-14T09:39:52.836474Z",
     "iopub.status.idle": "2025-06-14T09:39:52.853174Z",
     "shell.execute_reply": "2025-06-14T09:39:52.852091Z",
     "shell.execute_reply.started": "2025-06-14T09:39:52.836795Z"
    },
    "trusted": true
   },
   "outputs": [
    {
     "data": {
      "application/vnd.microsoft.datawrangler.viewer.v0+json": {
       "columns": [
        {
         "name": "Sleep Disorder",
         "rawType": "object",
         "type": "string"
        },
        {
         "name": "Age",
         "rawType": "float64",
         "type": "float"
        },
        {
         "name": "Sleep Duration",
         "rawType": "float64",
         "type": "float"
        },
        {
         "name": "Quality of Sleep",
         "rawType": "float64",
         "type": "float"
        },
        {
         "name": "Physical Activity Level",
         "rawType": "float64",
         "type": "float"
        },
        {
         "name": "Stress Level",
         "rawType": "float64",
         "type": "float"
        },
        {
         "name": "Heart Rate",
         "rawType": "float64",
         "type": "float"
        },
        {
         "name": "Daily Steps",
         "rawType": "float64",
         "type": "float"
        }
       ],
       "conversionMethod": "pd.DataFrame",
       "ref": "2ce8b18a-883a-4eae-985f-cb197c76fabf",
       "rows": [
        [
         "Insomnia",
         "43.51948051948052",
         "6.58961038961039",
         "6.532467532467533",
         "46.81818181818182",
         "5.87012987012987",
         "70.46753246753246",
         "5901.298701298701"
        ],
        [
         "No Disease",
         "39.0365296803653",
         "7.358447488584475",
         "7.6255707762557075",
         "57.949771689497716",
         "5.114155251141552",
         "69.01826484018265",
         "6852.96803652968"
        ],
        [
         "Sleep Apnea",
         "49.705128205128204",
         "7.032051282051282",
         "7.205128205128205",
         "74.7948717948718",
         "5.666666666666667",
         "73.08974358974359",
         "7619.2307692307695"
        ]
       ],
       "shape": {
        "columns": 7,
        "rows": 3
       }
      },
      "text/html": [
       "<div>\n",
       "<style scoped>\n",
       "    .dataframe tbody tr th:only-of-type {\n",
       "        vertical-align: middle;\n",
       "    }\n",
       "\n",
       "    .dataframe tbody tr th {\n",
       "        vertical-align: top;\n",
       "    }\n",
       "\n",
       "    .dataframe thead th {\n",
       "        text-align: right;\n",
       "    }\n",
       "</style>\n",
       "<table border=\"1\" class=\"dataframe\">\n",
       "  <thead>\n",
       "    <tr style=\"text-align: right;\">\n",
       "      <th></th>\n",
       "      <th>Age</th>\n",
       "      <th>Sleep Duration</th>\n",
       "      <th>Quality of Sleep</th>\n",
       "      <th>Physical Activity Level</th>\n",
       "      <th>Stress Level</th>\n",
       "      <th>Heart Rate</th>\n",
       "      <th>Daily Steps</th>\n",
       "    </tr>\n",
       "    <tr>\n",
       "      <th>Sleep Disorder</th>\n",
       "      <th></th>\n",
       "      <th></th>\n",
       "      <th></th>\n",
       "      <th></th>\n",
       "      <th></th>\n",
       "      <th></th>\n",
       "      <th></th>\n",
       "    </tr>\n",
       "  </thead>\n",
       "  <tbody>\n",
       "    <tr>\n",
       "      <th>Insomnia</th>\n",
       "      <td>43.519481</td>\n",
       "      <td>6.589610</td>\n",
       "      <td>6.532468</td>\n",
       "      <td>46.818182</td>\n",
       "      <td>5.870130</td>\n",
       "      <td>70.467532</td>\n",
       "      <td>5901.298701</td>\n",
       "    </tr>\n",
       "    <tr>\n",
       "      <th>No Disease</th>\n",
       "      <td>39.036530</td>\n",
       "      <td>7.358447</td>\n",
       "      <td>7.625571</td>\n",
       "      <td>57.949772</td>\n",
       "      <td>5.114155</td>\n",
       "      <td>69.018265</td>\n",
       "      <td>6852.968037</td>\n",
       "    </tr>\n",
       "    <tr>\n",
       "      <th>Sleep Apnea</th>\n",
       "      <td>49.705128</td>\n",
       "      <td>7.032051</td>\n",
       "      <td>7.205128</td>\n",
       "      <td>74.794872</td>\n",
       "      <td>5.666667</td>\n",
       "      <td>73.089744</td>\n",
       "      <td>7619.230769</td>\n",
       "    </tr>\n",
       "  </tbody>\n",
       "</table>\n",
       "</div>"
      ],
      "text/plain": [
       "                      Age  Sleep Duration  Quality of Sleep  \\\n",
       "Sleep Disorder                                                \n",
       "Insomnia        43.519481        6.589610          6.532468   \n",
       "No Disease      39.036530        7.358447          7.625571   \n",
       "Sleep Apnea     49.705128        7.032051          7.205128   \n",
       "\n",
       "                Physical Activity Level  Stress Level  Heart Rate  Daily Steps  \n",
       "Sleep Disorder                                                                  \n",
       "Insomnia                      46.818182      5.870130   70.467532  5901.298701  \n",
       "No Disease                    57.949772      5.114155   69.018265  6852.968037  \n",
       "Sleep Apnea                   74.794872      5.666667   73.089744  7619.230769  "
      ]
     },
     "execution_count": 44,
     "metadata": {},
     "output_type": "execute_result"
    }
   ],
   "source": [
    "# Grouped Aggregations\n",
    "grouped_stats = data.groupby(\"Sleep Disorder\")[numeric_cols].mean()\n",
    "grouped_stats.to_csv(\"eda_results/grouped_stats.csv\")\n",
    "grouped_stats"
   ]
  }
 ],
 "metadata": {
  "kaggle": {
   "accelerator": "none",
   "dataSources": [
    {
     "datasetId": 7659585,
     "sourceId": 12161803,
     "sourceType": "datasetVersion"
    }
   ],
   "dockerImageVersionId": 31040,
   "isGpuEnabled": false,
   "isInternetEnabled": true,
   "language": "python",
   "sourceType": "notebook"
  },
  "kernelspec": {
   "display_name": "Python 3",
   "language": "python",
   "name": "python3"
  },
  "language_info": {
   "codemirror_mode": {
    "name": "ipython",
    "version": 3
   },
   "file_extension": ".py",
   "mimetype": "text/x-python",
   "name": "python",
   "nbconvert_exporter": "python",
   "pygments_lexer": "ipython3",
   "version": "3.11.9"
  }
 },
 "nbformat": 4,
 "nbformat_minor": 4
}
